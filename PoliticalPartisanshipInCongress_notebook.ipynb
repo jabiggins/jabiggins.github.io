{
  "nbformat": 4,
  "nbformat_minor": 0,
  "metadata": {
    "colab": {
      "name": "ToSubmit.ipynb",
      "provenance": [],
      "collapsed_sections": [],
      "toc_visible": true
    },
    "kernelspec": {
      "name": "python3",
      "display_name": "Python 3"
    }
  },
  "cells": [
    {
      "cell_type": "markdown",
      "metadata": {
        "id": "eyUmQ24P-f3y"
      },
      "source": [
        "# An Investigation of Political Partisanship Across Time using Data Science\n",
        "\n",
        "By Vlad Dobrin and James Biggins"
      ]
    },
    {
      "cell_type": "markdown",
      "metadata": {
        "id": "urA9MNBS_FEE"
      },
      "source": [
        "## Introduction and Motivation \n",
        "\n",
        "\n",
        "\n",
        "\n",
        "\n",
        "\n",
        "\n"
      ]
    },
    {
      "cell_type": "markdown",
      "metadata": {
        "id": "VyBcNm1xonbX"
      },
      "source": [
        "Politics has been at the forefront of many people’s minds in recent years, especially during this year’s pandemic. Due to political news and activism being spread or discussed in virtually every social media platform, more and more people are forming opinions about recent events. Opposing views have always brought conflict, but in the digitalization age of today, this has become more pronounced.\n",
        "\n",
        "This year’s presidential election created international interest and discussion, leading to a record voter turnout. In contrast, congressional elections were discussed little. In fact, although virtually every American citizen knows who the current president of the United States is, many do not know their representatives in the two chambers of the Legislative Branch: the Senate and the House of Representatives. These representatives are responsible for the creation of the laws of the United States of America. If congress cannot come to an agreement, the government will grind to a halt, regardless of the divisiveness of the American people.\n",
        "\n",
        "What happens when congress can’t agree? The consequences range depending on the importance of the bill, but disagreements in recent years have led to the [shutdown](http://www.crfb.org/papers/qa-everything-you-should-know-about-government-shutdowns) of the federal government and the absence of stimulus packages to the American people during this pandemic.\n",
        "\n",
        "Why can’t agreements be reached? The modern American political system is, for all intents and purposes, a [two-party system](https://www.history.com/topics/us-presidents/america-101-why-do-we-have-a-two-party-system-video) that the Democratic and Republican parties have dominated. In recent years, it seems that representatives increasingly vote according to the will of the parties; thus, if there is no clear majority in a chamber of Congress, it becomes hard to pass legislature.\n",
        "\n",
        "This paper attempts to determine if political partisanship has increased by gathering congressional voting records after 1940 and seeing if an increasing number of congressmen have voted together along party lines. Individual features of each vote are also included such as the type of motion, the representativeness of the decision, and the title of the vote. This project follows the Data Science steps of \n",
        "1.\tData Collection\n",
        "2.\tData Processing\n",
        "3.\tExploratory Analysis & Data Visualization\n",
        "4.\tAnalysis, Hypothesis Testing, & Machine Learning\n",
        "5.\tInsight & Policy Decision\n",
        "\n",
        "By the end, we create a model that shows the change in political partisanship over recent years and can predict the political partisanship of future congressional votes."
      ]
    },
    {
      "cell_type": "markdown",
      "metadata": {
        "id": "ylcHZcHpof4a"
      },
      "source": [
        "## Table of Contents"
      ]
    },
    {
      "cell_type": "markdown",
      "metadata": {
        "id": "q4IyFWlBokaR"
      },
      "source": [
        "\n",
        "\n",
        "1.   Part 1: Data Collection\n",
        ">*   Identify a raw data source\n",
        ">*   Scrape the data\n",
        "\n",
        "2. Part 2: Data Processing\n",
        ">* Part 2a: Data Pre-processing\n",
        ">>* Convert the individual arrays of information into two pandas dataframes\n",
        ">>* Clean the scraped data\n",
        ">>* Batch Download\n",
        ">* Part 2b: Data Post-processing\n",
        ">>* Batch Uploads\n",
        ">>* Delete attribute that gets added during csv conversion\n",
        ">>* Batch Stitching\n",
        ">>* Final Cleaning\n",
        ">>* Final Cleaning\n",
        ">>* Final Post-Processing\n",
        "\n",
        "**Checkpoint: Use our data to avoid the scraping steps above**\n",
        "\n",
        "3. Part 3: Exploratory Analysis & Data Visualization\n",
        ">* Senate Representation and PercentYea Analysis\n",
        ">* Partisanship in Congress\n",
        ">>* Partisanship in the Senate\n",
        ">>* Partisanship in the House\n",
        "4. Part 4: Analysis, Hypothesis Testing and Machine Learning\n",
        ">* The Necessity of Averaging\n",
        ">* Senate: Multilinear Linear Regression\n",
        ">* House: Multilinear Linear Regression\n",
        ">* Senate Ridge Regression\n",
        ">* House Ridge Regression\n",
        ">* Senate Nearest Neighbor\n",
        ">* House Nearest Neighbor\n",
        "5. Part 5: Insight, Policy Decision, and Importance\n",
        ">* Summary\n",
        ">* Financial Importance\n",
        ">* Social Importance\n",
        ">* The future of this project\n"
      ]
    },
    {
      "cell_type": "markdown",
      "metadata": {
        "id": "8-PZh_aG_Vgt"
      },
      "source": [
        "# Part 1: Data Collection: Identify a raw data source"
      ]
    },
    {
      "cell_type": "markdown",
      "metadata": {
        "id": "HbbDexBzu_Xq"
      },
      "source": [
        "## Identify a raw data source\n",
        "\n",
        "Data science requires data. In an ideal world, you get the data directly from the source. In this case, the closest thing to the source is government websites such as congress.gov, senate.gov, or house.gov. At a glance, this data would appear easy to scrape from (example: https://clerk.house.gov/Votes/2020235). However, this website does not appear to have easily accessible votes from the mid-1940’s. Instead, we turn to a website called [GovTrack.us](https://www.govtrack.us/), which is a reputable source that appears to have done data collection from websites in the government domain, as well as other public data sources such as https://voteview.com/. In this website, the voting records of from the 1st congress in 1789 are viewable in a format that can be automatically scraped.\n",
        "\n",
        "Clearly, the US was very different in the 18th and 19th centuries. For one, there were a lot more political parties, including the Federalist party which is no longer influential today. Therefore, we narrowed the scope of our project to start at the beginning of 1941. The year was chosen due to party realignment reasons detailed here (https://history.house.gov/Exhibitions-and-Publications/BAIC/Historical-Essays/Keeping-the-Faith/Party-Realignment--New-Deal/) and also because this is a breakpoint in how these webpages were labeled in the GovTrack.us website, and we wanted to make scraping as streamlined as possible."
      ]
    },
    {
      "cell_type": "markdown",
      "metadata": {
        "id": "I98VdTKnzkH4"
      },
      "source": [
        "## Scrape the Data"
      ]
    },
    {
      "cell_type": "markdown",
      "metadata": {
        "id": "kQc4vZbc_941"
      },
      "source": [
        "### Import dependencies and libraries for project\n",
        "\n"
      ]
    },
    {
      "cell_type": "code",
      "metadata": {
        "id": "LHAvwBdb_9GN"
      },
      "source": [
        "import numpy as np\n",
        "import pandas as pd\n",
        "import requests\n",
        "from bs4 import BeautifulSoup\n",
        "import re\n",
        "from urllib.request import urlopen, Request\n",
        "import matplotlib.pyplot as plt\n",
        "from urllib.error import HTTPError\n",
        "from google.colab import files\n",
        "from time import sleep\n",
        "from pydrive.auth import GoogleAuth \n",
        "from pydrive.drive import GoogleDrive \n",
        "from google.colab import auth \n",
        "from oauth2client.client import GoogleCredentials \n",
        "import math\n",
        "from sklearn.linear_model import LinearRegression \n",
        "from sklearn.model_selection import train_test_split\n",
        "from sklearn.model_selection import cross_val_score\n",
        "from numpy.polynomial.polynomial import polyfit\n",
        "from sklearn.model_selection import cross_val_score\n",
        "from sklearn.model_selection import train_test_split\n",
        "from sklearn import neighbors\n",
        "from math import sqrt\n",
        "from sklearn.metrics import mean_squared_error \n",
        "from sklearn.linear_model import Ridge\n",
        "from sklearn.model_selection import RepeatedKFold\n",
        "from numpy import mean\n",
        "from numpy import std\n",
        "from numpy import absolute\n",
        "from pandas import read_csv\n",
        "from sklearn.model_selection import cross_val_score\n",
        "from sklearn.model_selection import cross_val_score\n",
        "from sklearn.model_selection import train_test_split"
      ],
      "execution_count": null,
      "outputs": []
    },
    {
      "cell_type": "markdown",
      "metadata": {
        "id": "1EtTo5mOAQFK"
      },
      "source": [
        "### Set up preliminary datastructures\n",
        "\n",
        "Although the url naming convention for votes was fairly consistent, there was a few years that did not follow the same pattern. They are specified in the dictionary called houseFirstBill"
      ]
    },
    {
      "cell_type": "code",
      "metadata": {
        "id": "V98UEnMyAuO1"
      },
      "source": [
        "# required for establishing https connection\n",
        "hdr = {'user-agent': 'Mozilla/5.0 (Macintosh; Intel Mac OS X 10_11_6) AppleWebKit/537.36 (KHTML, like Gecko) Chrome/56.0.2924.87 Safari/537.36',}\n",
        "\n",
        "#dictionary to speed up scraping\n",
        "houseFirstBill = {\n",
        "        1972: 321,\n",
        "        1974: 542,\n",
        "        1976: 613,\n",
        "        1978:707,\n",
        "        1980:673,\n",
        "        1982:355,\n",
        "        1984:499,\n",
        "        1986:440,\n",
        "        1988:489,\n",
        "        }"
      ],
      "execution_count": null,
      "outputs": []
    },
    {
      "cell_type": "markdown",
      "metadata": {
        "id": "iONdNpCI1BFg"
      },
      "source": [
        "### Scrape the data\n",
        "\n",
        "The scrape method goes to each vote webpage starting in either the house or the senate. Parameters:\n",
        "\n",
        "\n",
        "*   chamber - specify which chamber is scraped\n",
        "*   congressNumStart - the first congress to scrape. Ensure it lines up with year\n",
        "* congressNumEnd - specifies the last congresss to scrape\n",
        "* year - the start year to scape. Ensure it lines up with congressNumStart\n",
        "* interval- how many votes in a year are scraped in a row. An interval of 1 would mean that every vote is scraped, an interval two means that every other vote is scraped, and so on\n",
        "\n",
        "**Explanation of the scrape**\n",
        "Each vote takes a couple seconds to scrape over my internet connection, so from start to finish the scraping process would have taken multiple days to complete if executed all at once. \n",
        "\n",
        "How to scrape all the house data: \n",
        "* scrape('House',11,116, 1941, 1)\n",
        "\n",
        "How to scrape all the senate data:\n",
        "* scrape('Senate',11,116, 1941, 1)\n",
        "\n",
        "During the scraping process, because we used Google Colab and due to the large number of votes that are available to gather, code execution would frequently stop and all the data scraped would be lost. \n",
        "\n",
        "As this happened multiple times over the 2 week scraping process, I realized that the execuion would stop more frequently in the later end of the scrape. Therefore, I did a preliminary scrape for both chambers to get as much of the data as I could. Then, using the parameters of the scrape function, I got the data decade by decade. In the post processing step later on in this project, the data from the numerous individual scrapes are combined.\n",
        "\n",
        "How to scrape the senate data from the 1980's:\n",
        "* scrape('House',96,101, 1979, 1)\n",
        "\n",
        "If you are looking to test this scrape yourself, you might find that getting every vote even from a decade takes some time. However, if you choose a smaller time frame AND a bigger interval, you can get a sample of votes quickly.\n",
        "\n",
        "How to scrape every 20th vote from the 1980's\n",
        "* scrape('House',96,101, 1979, 20)\n",
        "\n",
        "Important notes: \n",
        "1. When specifying the start year, ensure it aligns with the FIRST year for that congress. For example, the 101st congress lasts from 1979 to 1980. Please choose 1979 as the start year, even if you only want the 80's.\n",
        "2. How do you know which congresses go which years, and so forth? Go to https://www.govtrack.us/congress/votes and look at the dropdown filter on the left side of the page.\n",
        "3. When scraping a subset of votes, hereby called a **\"batch\"**, run the *entirity* of the following cell so that the previous batch's results are cleared from the arrays.\n",
        "4. Don't be alarmed if you see errors while scraping, 404's are expected as part of the scraping process and 502s are handled with a constant retry policy that is simplistic, un-optimized, yet effective. For example: running the above scrape yields:\n",
        "\n",
        ">>```\n",
        "starting  House :  96 year  1979 vote# 1\n",
        "HTTP Error 404: Not Found https://www.govtrack.us/congress/votes/96-1979/h681\n",
        "starting  House :  96 year  1980 vote# 673\n",
        "HTTP Error 404: Not Found https://www.govtrack.us/congress/votes/96-1980/h1293\n",
        "```\n",
        "\n",
        ">>This is fine, its simply telling you that it tried to scrape votes from 1 to 681, before realizing that there are no more votes for that year. Then it tells you which vote it will start off on in the next year."
      ]
    },
    {
      "cell_type": "code",
      "metadata": {
        "id": "deCVXhlnA5o3",
        "colab": {
          "base_uri": "https://localhost:8080/"
        },
        "outputId": "d0d2d8ce-8289-41a1-f354-fae756ef952c"
      },
      "source": [
        "voteID = 0 #the id for votes in the congress table and repeated as an index in the votes table\n",
        "CID = 0 # a unique identifier for year, congress combination\n",
        "\n",
        "# lists to store the scraped information\n",
        "CIDs = []\n",
        "CongressNames = []\n",
        "Dates = []\n",
        "CongressYears = []\n",
        "SeqVoteIDs = []\n",
        "Titles = []\n",
        "Motions =[]\n",
        "Representations = []\n",
        "PercentYea = []\n",
        "URLS = []\n",
        "Chambers = []\n",
        "\n",
        "VoteIDs = []\n",
        "TypesofVotes = []\n",
        "PercentsofVote = []\n",
        "NumbersofVotes = []\n",
        "Pubs = []\n",
        "Dems = []\n",
        "\n",
        "#the method that performs the actual scaping\n",
        "def scrape(chamber, congressNumStart, congressNumEnd, year, interval):\n",
        "  global CID\n",
        "  global voteID\n",
        "  \n",
        "  year -=1 # need to subtract one in the begining so the addition in the loop works\n",
        "  congressNumEnd +=1\n",
        "\n",
        "  for congressNum in range(congressNumStart, congressNumEnd): #end at 116\n",
        "    \n",
        "    for i in range(2):\n",
        "      \n",
        "      foundFirst = False\n",
        "      year +=1\n",
        "\n",
        "      #the vote number for that congress and year\n",
        "      if chamber == 'House':\n",
        "        voteNum = houseFirstBill.get(year, 1)\n",
        "      else:\n",
        "          voteNum = 1\n",
        "\n",
        "      print(\"starting \", chamber, \": \", congressNum, \"year \" , year, \"vote#\", voteNum)\n",
        "\n",
        "      \n",
        "      #get all webpages that you can from the senate\n",
        "      while True:\n",
        "        \n",
        "        url = 'https://www.govtrack.us/congress/votes/' + str(congressNum) + '-' + str(year) + '/' + str(chamber[0]).lower() + str(voteNum)\n",
        "\n",
        "        #make request\n",
        "        req = Request(url, headers=hdr)\n",
        "        #try to read response\n",
        "        try:\n",
        "          response = urlopen(req).read()\n",
        "\n",
        "          #give to soup to organize\n",
        "          soup = BeautifulSoup(response, 'lxml')\n",
        "\n",
        "          # print(\"found \", url)\n",
        "          foundFirst = True\n",
        "\n",
        "          URLS.append(url)\n",
        "          Titles.append(soup.h1.text)\n",
        "          date = soup.find(\"div\",{\"style\":\"margin: 2px 0 16px 0; font-size: 12px; font-weight: normal; color: black; line-height: 125%; padding-bottom: 6px; border-bottom: 1px solid #CCA;\"}).text\n",
        "          Dates.append(date)\n",
        "          Chambers.append(chamber)\n",
        "          \n",
        "          #get extra info\n",
        "          motion = soup.find('p',{\"style\":\"margin: 1em 0 0 0; font: 12px/20px serif;\"})\n",
        "          if motion is None:\n",
        "            Motions.append(\"unknown\")\n",
        "          else:\n",
        "            Motions.append(motion.text)\n",
        "\n",
        "          representation = soup.find('p',{\"style\":\"margin: 0; font: 12px/20px serif;\"})\n",
        "          if representation is None:\n",
        "            Representations.append(\"unknown\")\n",
        "          else:\n",
        "            Representations.append(re.findall('\\d+', representation.text)[0])\n",
        "\n",
        "          #get vote info into DF, its the second to last table\n",
        "          table = soup.find_all('table')[len(soup.find_all('table'))-2]\n",
        "          df1 = pd.read_html(str(table), flavor='html5lib')[0]\n",
        "\n",
        "          #update listCongress columns\n",
        "          CIDs.append(CID)\n",
        "          CongressNames.append(congressNum)\n",
        "          CongressYears.append(year)\n",
        "          SeqVoteIDs.append(voteID)\n",
        "          \n",
        "          if df1['Unnamed: 0'].size > 0 and df1.loc[0, 'Unnamed: 0'] == 'Yea':\n",
        "            PercentYea.append(str(df1.loc[0, 'All Votes'])[:-1])\n",
        "          else:\n",
        "            PercentYea.append('unknown')\n",
        "          \n",
        "          #update vote columns\n",
        "          for index, row in df1.iterrows():\n",
        "                    \n",
        "            VoteIDs.append(voteID)\n",
        "            TypesofVotes.append(df1.loc[index, 'Unnamed: 0'])     \n",
        "            NumbersofVotes.append(df1.loc[index, 'All Votes.1'])\n",
        "            Pubs.append(df1.loc[index, 'Republicans'])\n",
        "            Dems.append(df1.loc[index, 'Democrats'])      \n",
        "\n",
        "          voteID +=1\n",
        "          voteNum += interval\n",
        "          CID +=1\n",
        "\n",
        "        except HTTPError as err:\n",
        "          print(err, url)\n",
        "          if err.code == 404:\n",
        "            if foundFirst:\n",
        "              break\n",
        "            elif voteNum > 750:\n",
        "              break\n",
        "            else:\n",
        "              voteNum += interval\n",
        "\n",
        "          elif err.code == 502:\n",
        "            sleep(2)\n",
        "\n",
        "\n",
        "\n",
        "#!!!change the line below to scrape a batch of your choosing!!!\n",
        "scrape('House',96,97, 1979, 30)"
      ],
      "execution_count": null,
      "outputs": [
        {
          "output_type": "stream",
          "text": [
            "starting  House :  96 year  1979 vote# 1\n",
            "HTTP Error 404: Not Found https://www.govtrack.us/congress/votes/96-1979/h691\n",
            "starting  House :  96 year  1980 vote# 673\n",
            "HTTP Error 404: Not Found https://www.govtrack.us/congress/votes/96-1980/h1303\n",
            "starting  House :  97 year  1981 vote# 1\n",
            "HTTP Error 404: Not Found https://www.govtrack.us/congress/votes/97-1981/h361\n",
            "starting  House :  97 year  1982 vote# 355\n",
            "HTTP Error 404: Not Found https://www.govtrack.us/congress/votes/97-1982/h835\n"
          ],
          "name": "stdout"
        }
      ]
    },
    {
      "cell_type": "markdown",
      "metadata": {
        "id": "Mv7liJslAsre"
      },
      "source": [
        "# Part 2: Data Processing"
      ]
    },
    {
      "cell_type": "markdown",
      "metadata": {
        "id": "7-ul0pgLBeFU"
      },
      "source": [
        "## Part 2a: Data Pre-processing\n",
        "\n",
        "At this point, you have successfully scraped a batch of votes from a single chamber into arrays. These arrays are then put in pandas dataframes before being cleaned. How should this information be organized? The solution we devised was a dual table/dataframe system. \n",
        "\n",
        "The first table would list each vote scraped: a single vote would have a single entry. Attributes:\n",
        "*   CID - the unique indentifier for a year, congress combination\n",
        "*   CName - the name of the congress, represented numerically, ex(101) \n",
        "* Date - the date of that the vote occured\n",
        "* Chamber - the chamber of the vote\n",
        "* VoteID - the unique identifier for a vote. \n",
        "* Motions - The motion specified for each vote.\n",
        "* PercentYea - the percent of votes that supported the motion\n",
        "* Representation - \" The Yea votes represented 47% of the country’s population by apportioning each state’s population to its voting senators.\" - GovTrack.us\n",
        "* URL - the URL that each vote can be viewed. Acts as a good manual \"sanity check\" to ensure that the entries have the correct data.\n",
        "*  VoteTitle - the title of the vote\n",
        "\n",
        "The second table goes into detail for each vote. Each entry lists a type of action for each vote and who voted for that action. Attributes:\n",
        "* VID - the vote ID that identifies each vote. Each vote should have 1+ rows for the 1+ actions\n",
        "* Type - the type of action that can be done on each vote. There will always be a Yea action for each vote. There will almost always be a Nay action, and occassionally actions for Present and Not Voting.\n",
        "* Number - how many total people took that action\n",
        "* Republicans - how many republicans took that action\n",
        "* Democrats - how many democrats took that action\n",
        "* Others - although we confined the range of years so that Democrats and Republicans would be the major parties in play, the website occassionally lists the votes of Independents, Progressives, or unknowns that add a couple votes to the total. We are combining these three groups because they are not gaurenteed to be present in every congress.\n",
        "\n",
        "Note: the current code has each batch's CID and VoteID start at 0. We then \"fix\" these values in post processing so they are unique for the combined data. If you want to avoid that step, you can add an extra parameter to the scrape function that specifies the initial value that CID and VoteID should have.\n"
      ]
    },
    {
      "cell_type": "markdown",
      "metadata": {
        "id": "eYERr1t8BnxM"
      },
      "source": [
        "### Convert the individual arrays of information into the two dataframes\n",
        "\n",
        "Dataframes called\n",
        "* congressTable\n",
        "* voteTable\n",
        "\n"
      ]
    },
    {
      "cell_type": "code",
      "metadata": {
        "id": "NcB4UHPtBl5o"
      },
      "source": [
        "congressTable = pd.DataFrame(columns=[\"CID\", \"CName\", \"Date\", \"Chamber\", \"VoteID\", 'Motions', 'PercentYea','Representation', \"URL\"])\n",
        "voteTable = pd.DataFrame(columns=[\"VID\", \"Type\", \"Number\", \"Republicans\", \"Democrats\", \"Others\"])\n",
        "\n",
        "congressTable['CID'] = CIDs\n",
        "congressTable['CName'] = CongressNames\n",
        "congressTable['Date'] = Dates\n",
        "congressTable['Chamber'] = Chambers\n",
        "congressTable['VoteID'] = SeqVoteIDs\n",
        "congressTable['VoteTitle'] = Titles\n",
        "congressTable['Motions'] = Motions\n",
        "congressTable['PercentYea'] = PercentYea\n",
        "congressTable['Representation'] = Representations\n",
        "congressTable['URL'] = URLS\n",
        "\n",
        "voteTable['VID'] = VoteIDs\n",
        "voteTable['Type'] = TypesofVotes\n",
        "voteTable['Number'] = NumbersofVotes\n",
        "voteTable['Democrats'] = Dems\n",
        "voteTable['Republicans'] = Pubs\n",
        "\n"
      ],
      "execution_count": null,
      "outputs": []
    },
    {
      "cell_type": "markdown",
      "metadata": {
        "id": "TQLfyM9JB2bh"
      },
      "source": [
        "### Clean the scraped data\n",
        "\n",
        "The initial scrapes take a while, so virtually no cleaning takes place during the scraping process so it can complete as quickly as possible. The majority of the cleaning of the data takes place here, mostly doing things like trimming html tags"
      ]
    },
    {
      "cell_type": "code",
      "metadata": {
        "id": "PmBtnH8GB3gN"
      },
      "source": [
        "#calc others (progressives, independents, unknowns)\n",
        "voteTable['Others'] = voteTable['Number'] - voteTable['Republicans'] - voteTable['Democrats']\n",
        "\n",
        "# perform mapping from month abbreviation to number\n",
        "m = {\n",
        "        'Jan': 1,\n",
        "        'Feb': 2,\n",
        "        'Mar': 3,\n",
        "        'Apr':4,\n",
        "         'May':5,\n",
        "         'Jun':6,\n",
        "         'Jul':7,\n",
        "         'Aug':8,\n",
        "         'Sep':9,\n",
        "         'Oct':10,\n",
        "         'Nov':11,\n",
        "         'Dec':12\n",
        "        }\n",
        "\n",
        "#method that converts raw month to a datetime value\n",
        "def convertToDT(string):\n",
        "  match = re.findall('\\d+', string)\n",
        "  day = match[0]\n",
        "  year = match[1]\n",
        "  month = re.findall('[A-Z][a-z]+', string)[0]\n",
        "\n",
        "  return pd.to_datetime( str(m[month]) + \"/\" + str(day) + \"/\"  + str(year) )\n",
        "\n",
        "#cleaning down for every row\n",
        "for index, row in congressTable.iterrows():\n",
        "  #convert dates to date time\n",
        "  congressTable.loc[index, 'Date'] = convertToDT(str(congressTable.loc[index, 'Date']))\n",
        "\n",
        "  #clean motions into motion\n",
        "  string1= re.sub('\\n|\\s', '', congressTable.loc[index, 'Motions'])\n",
        "  matches = string1.split('.')\n",
        "  if matches[1] == 'unknownRequired':\n",
        "    matches[1] = 'unknown'\n",
        "  congressTable.loc[index, 'Motion'] = matches[0]\n",
        "  congressTable.loc[index, 'RequirementsToPass'] = matches[1]\n",
        "\n",
        "  #clean representations\n",
        "  congressTable.loc[index, 'Representation'] = re.sub('\\n', '', congressTable.loc[index, 'Representation'])\n",
        "\n",
        "  #clean title\n",
        "  congressTable.loc[index, 'VoteTitle'] = re.sub('\\n', '', congressTable.loc[index, 'VoteTitle'])\n",
        "\n",
        "  #clean yea\n",
        "  if(congressTable.loc[index,'PercentYea'] == 'na'):\n",
        "    congressTable.loc[index,'PercentYea'] = 0\n",
        "\n",
        "# drop motions column\n",
        "congressTable.drop(columns=['Motions'], inplace=True)"
      ],
      "execution_count": null,
      "outputs": []
    },
    {
      "cell_type": "markdown",
      "metadata": {
        "id": "fvCpW0cbB72J"
      },
      "source": [
        "### Batch Download\n",
        "\n",
        "At this stage, you have a batch of cleaned vote data in two dataframes. Although there is no foreign key relationship, the tables are linked by the VoteID. For the purposes of this project, download the two csvs, knowing that you HAVE to preserve the voteID link, the voteIDs can change later, but a entry in the congressTable needs to map to the same set of entries in the voteTable."
      ]
    },
    {
      "cell_type": "code",
      "metadata": {
        "id": "5yY8chHuB9q3",
        "colab": {
          "base_uri": "https://localhost:8080/",
          "height": 17
        },
        "outputId": "213ce6e2-9c35-4c5f-e4d7-90dc30fcaef8"
      },
      "source": [
        "\n",
        "voteTable.to_csv('voteTable.csv')\n",
        "congressTable.to_csv('congressTable.csv')\n",
        "\n",
        "files.download('voteTable.csv')\n",
        "files.download('congressTable.csv')"
      ],
      "execution_count": null,
      "outputs": [
        {
          "output_type": "display_data",
          "data": {
            "application/javascript": [
              "\n",
              "    async function download(id, filename, size) {\n",
              "      if (!google.colab.kernel.accessAllowed) {\n",
              "        return;\n",
              "      }\n",
              "      const div = document.createElement('div');\n",
              "      const label = document.createElement('label');\n",
              "      label.textContent = `Downloading \"${filename}\": `;\n",
              "      div.appendChild(label);\n",
              "      const progress = document.createElement('progress');\n",
              "      progress.max = size;\n",
              "      div.appendChild(progress);\n",
              "      document.body.appendChild(div);\n",
              "\n",
              "      const buffers = [];\n",
              "      let downloaded = 0;\n",
              "\n",
              "      const channel = await google.colab.kernel.comms.open(id);\n",
              "      // Send a message to notify the kernel that we're ready.\n",
              "      channel.send({})\n",
              "\n",
              "      for await (const message of channel.messages) {\n",
              "        // Send a message to notify the kernel that we're ready.\n",
              "        channel.send({})\n",
              "        if (message.buffers) {\n",
              "          for (const buffer of message.buffers) {\n",
              "            buffers.push(buffer);\n",
              "            downloaded += buffer.byteLength;\n",
              "            progress.value = downloaded;\n",
              "          }\n",
              "        }\n",
              "      }\n",
              "      const blob = new Blob(buffers, {type: 'application/binary'});\n",
              "      const a = document.createElement('a');\n",
              "      a.href = window.URL.createObjectURL(blob);\n",
              "      a.download = filename;\n",
              "      div.appendChild(a);\n",
              "      a.click();\n",
              "      div.remove();\n",
              "    }\n",
              "  "
            ],
            "text/plain": [
              "<IPython.core.display.Javascript object>"
            ]
          },
          "metadata": {
            "tags": []
          }
        },
        {
          "output_type": "display_data",
          "data": {
            "application/javascript": [
              "download(\"download_699cbe81-1103-44ab-bf9b-3bccf12822f1\", \"voteTable.csv\", 5589)"
            ],
            "text/plain": [
              "<IPython.core.display.Javascript object>"
            ]
          },
          "metadata": {
            "tags": []
          }
        },
        {
          "output_type": "display_data",
          "data": {
            "application/javascript": [
              "\n",
              "    async function download(id, filename, size) {\n",
              "      if (!google.colab.kernel.accessAllowed) {\n",
              "        return;\n",
              "      }\n",
              "      const div = document.createElement('div');\n",
              "      const label = document.createElement('label');\n",
              "      label.textContent = `Downloading \"${filename}\": `;\n",
              "      div.appendChild(label);\n",
              "      const progress = document.createElement('progress');\n",
              "      progress.max = size;\n",
              "      div.appendChild(progress);\n",
              "      document.body.appendChild(div);\n",
              "\n",
              "      const buffers = [];\n",
              "      let downloaded = 0;\n",
              "\n",
              "      const channel = await google.colab.kernel.comms.open(id);\n",
              "      // Send a message to notify the kernel that we're ready.\n",
              "      channel.send({})\n",
              "\n",
              "      for await (const message of channel.messages) {\n",
              "        // Send a message to notify the kernel that we're ready.\n",
              "        channel.send({})\n",
              "        if (message.buffers) {\n",
              "          for (const buffer of message.buffers) {\n",
              "            buffers.push(buffer);\n",
              "            downloaded += buffer.byteLength;\n",
              "            progress.value = downloaded;\n",
              "          }\n",
              "        }\n",
              "      }\n",
              "      const blob = new Blob(buffers, {type: 'application/binary'});\n",
              "      const a = document.createElement('a');\n",
              "      a.href = window.URL.createObjectURL(blob);\n",
              "      a.download = filename;\n",
              "      div.appendChild(a);\n",
              "      a.click();\n",
              "      div.remove();\n",
              "    }\n",
              "  "
            ],
            "text/plain": [
              "<IPython.core.display.Javascript object>"
            ]
          },
          "metadata": {
            "tags": []
          }
        },
        {
          "output_type": "display_data",
          "data": {
            "application/javascript": [
              "download(\"download_6ede3654-14c9-4dcf-8458-1f485268fd08\", \"congressTable.csv\", 22964)"
            ],
            "text/plain": [
              "<IPython.core.display.Javascript object>"
            ]
          },
          "metadata": {
            "tags": []
          }
        }
      ]
    },
    {
      "cell_type": "markdown",
      "metadata": {
        "id": "J_WoEiHRuUmF"
      },
      "source": [
        "## Part 2b: Data Post-processing\n",
        "\n",
        "If you have a number of batch csv files for the senate and house, we need to re-upload them and join them. The exact code below will depend on the how many batches you have, this is what we did for our batches."
      ]
    },
    {
      "cell_type": "markdown",
      "metadata": {
        "id": "XVKmUJ6HEkN6"
      },
      "source": [
        "### Batch Uploads\n",
        "\n",
        "This code is specific for Google Collab execution"
      ]
    },
    {
      "cell_type": "code",
      "metadata": {
        "id": "-sdc4J1VEiPc"
      },
      "source": [
        "#Necessary to bring in the csv file from the drive for someone that does not have it locally.\n",
        "auth.authenticate_user() \n",
        "gauth = GoogleAuth() \n",
        "gauth.credentials = GoogleCredentials.get_application_default() \n",
        "drive = GoogleDrive(gauth)\n",
        "\n",
        "#senate\n",
        "linkCT03A = \"https://drive.google.com/file/d/1_8QrsbNSGfQpekb0XH9N3uwSK2ON0vXf/view?usp=sharing\";\n",
        "linkCT03B = \"https://drive.google.com/file/d/1PW_ZDISK_pTYXvGL74_dE-0__BLqDMWQ/view?usp=sharing\";\n",
        "linkVT03A = \"https://drive.google.com/file/d/1-LcPvUfYNPsWByHzchiAlBOftIlp__eV/view?usp=sharing\";\n",
        "linkVT03B = \"https://drive.google.com/file/d/1hyHekveQCgVC9_vqyHP5ku9Nolrqvd_T/view?usp=sharing\";\n",
        "linkS1990 = \"https://drive.google.com/file/d/188IA0q6s6mdpWKcQHRrxlw1VjSBXQXNb/view?usp=sharing\";\n",
        "linkS2000 = \"https://drive.google.com/file/d/1WJWfcKg_R27j2jtxM1iVSWcU9Rhtp7kE/view?usp=sharing\";\n",
        "linkS2010 = \"https://drive.google.com/file/d/13xTwibyBr3xCyrJNctFJC_reCgBww7HC/view?usp=sharing\";\n",
        "linkSV1990 = \"https://drive.google.com/file/d/14otYJU6hkob_vrGR_lzozEGGPBGo45Xe/view?usp=sharing\";\n",
        "linkSV2000 = \"https://drive.google.com/file/d/1BXTbhVCKE5UJdoMqMbkz5uWmY23bD8r8/view?usp=sharing\";\n",
        "linkSV2010 = \"https://drive.google.com/file/d/1BtaXljJ_6Hr1WK2H1pET71rdE2vcPh2v/view?usp=sharing\";\n",
        "\n",
        "#house\n",
        "linkHT03A = \"https://drive.google.com/file/d/1VhJl_MAZ-qY3Q-UfKHgHi0sVAWdrdfYI/view?usp=sharing\";\n",
        "linkHVT03A = \"https://drive.google.com/file/d/1HSbymM3QzshxHxO4W2uxfpvJleP1bQgm/view?usp=sharing\";\n",
        "linkHT1970 = \"https://drive.google.com/file/d/1T3vJsVjSPBBlr8NYk4aL-AQfXHSJp8Dk/view?usp=sharing\"\n",
        "linkHT1980 = \"https://drive.google.com/file/d/10a5YAj0cBS_eU6k-1eBKVjq-GjBymBtg/view?usp=sharing\"\n",
        "linkHT1990 = \"https://drive.google.com/file/d/17KKG-kmfVbDh5aU4eaqymTzaH5Vt7dhj/view?usp=sharing\"\n",
        "linkHT2000 = \"https://drive.google.com/file/d/1oDYT6JObLeP2ckuVTwKr6qVYW0_DfDDv/view?usp=sharing\"\n",
        "linkHT2010 = \"https://drive.google.com/file/d/1CGOQLuNf_a6NupPdxI51SYyecoB7w68B/view?usp=sharing\"\n",
        "linkHVT1970 = \"https://drive.google.com/file/d/1zhNFLkQO_wtgoPUFGxXGNpCa-6ObdpAC/view?usp=sharing\"\n",
        "linkHVT1980 = \"https://drive.google.com/file/d/11qI7YlATHsFi9zNEAgEMaUVdYfRns_cr/view?usp=sharing\"\n",
        "linkHVT1990 = \"https://drive.google.com/file/d/1cU5QTCOp7qamXYE29p1O4IFBCsoAB6Cs/view?usp=sharing\"\n",
        "linkHVT2000 = \"https://drive.google.com/file/d/1diV1rEC3xLo5jbnSU6soK-rnZcwuVYUr/view?usp=sharing\"\n",
        "linkHVT2010 = \"https://drive.google.com/file/d/1DbT7Ksf6_cWC4VtCwqGtbfen1NnGct0E/view?usp=sharing\"\n",
        "\n",
        "idC03A = linkCT03A.split(\"/\")[-2] \n",
        "idC03B = linkCT03B.split(\"/\")[-2] \n",
        "idS1990 = linkS1990.split(\"/\")[-2] \n",
        "idS2000 = linkS2000.split(\"/\")[-2] \n",
        "idS2010 = linkS2010.split(\"/\")[-2] \n",
        "\n",
        "idV03A = linkVT03A.split(\"/\")[-2] \n",
        "idV03B = linkVT03B.split(\"/\")[-2] \n",
        "idSV1990 = linkSV1990.split(\"/\")[-2] \n",
        "idSV2000 = linkSV2000.split(\"/\")[-2] \n",
        "idSV2010 = linkSV2010.split(\"/\")[-2] \n",
        "\n",
        "\n",
        "idH03A = linkHT03A.split(\"/\")[-2] \n",
        "idH1970 = linkHT1970.split(\"/\")[-2] \n",
        "idH1980 = linkHT1980.split(\"/\")[-2] \n",
        "idH1990 = linkHT1990.split(\"/\")[-2] \n",
        "idH2000 = linkHT2000.split(\"/\")[-2] \n",
        "idH2010 = linkHT2010.split(\"/\")[-2] \n",
        "\n",
        "idHV03A = linkHVT03A.split(\"/\")[-2]\n",
        "idHV1970 = linkHVT1970.split(\"/\")[-2] \n",
        "idHV1980 = linkHVT1980.split(\"/\")[-2] \n",
        "idHV1990 = linkHVT1990.split(\"/\")[-2] \n",
        "idHV2000 = linkHVT2000.split(\"/\")[-2] \n",
        "idHV2010 = linkHVT2010.split(\"/\")[-2] \n",
        " \n",
        "#senate data\n",
        "downloadedC03A = drive.CreateFile({'id':idC03A})  \n",
        "downloadedC03A.GetContentFile('senateTable03a.csv')\n",
        "downloadedC03B = drive.CreateFile({'id':idC03B})  \n",
        "downloadedC03B.GetContentFile('senateTable03b.csv')\n",
        "downloadedV03A = drive.CreateFile({'id':idV03A})  \n",
        "downloadedV03A.GetContentFile('senateVoteTable03a.csv')\n",
        "downloadedV03B = drive.CreateFile({'id':idV03B})  \n",
        "downloadedV03B.GetContentFile('senateVoteTable03b.csv')\n",
        "downloadedS1990 = drive.CreateFile({'id':idS1990})  \n",
        "downloadedS1990.GetContentFile('senDec1990.csv')\n",
        "downloadedS2000 = drive.CreateFile({'id':idS2000})  \n",
        "downloadedS2000.GetContentFile('senDec2000.csv')\n",
        "downloadedS2010 = drive.CreateFile({'id':idS2010})  \n",
        "downloadedS2010.GetContentFile('senDec2010.csv')\n",
        "downloadedSV1990 = drive.CreateFile({'id':idSV1990})  \n",
        "downloadedSV1990.GetContentFile('senVDec1990.csv')\n",
        "downloadedSV2000 = drive.CreateFile({'id':idSV2000})  \n",
        "downloadedSV2000.GetContentFile('senVDec2000.csv')\n",
        "downloadedSV2010 = drive.CreateFile({'id':idSV2010})  \n",
        "downloadedSV2010.GetContentFile('senVDec2010.csv')\n",
        "\n",
        "#house data\n",
        "downloadedH03A = drive.CreateFile({'id':idH03A})  \n",
        "downloadedH03A.GetContentFile('houseTable03a.csv')\n",
        "downloadedHV03A = drive.CreateFile({'id':idHV03A})  \n",
        "downloadedHV03A.GetContentFile('houseVoteTable03a.csv')\n",
        "downloadedH1970 = drive.CreateFile({'id':idH1970})  \n",
        "downloadedH1970.GetContentFile('houDec1970.csv')\n",
        "downloadedHV1970 = drive.CreateFile({'id':idHV1970})  \n",
        "downloadedHV1970.GetContentFile('houVDec1970.csv')\n",
        "downloadedH1980 = drive.CreateFile({'id':idH1980})  \n",
        "downloadedH1980.GetContentFile('houDec1980.csv')\n",
        "downloadedHV1980 = drive.CreateFile({'id':idHV1980})  \n",
        "downloadedHV1980.GetContentFile('houVDec1980.csv')\n",
        "downloadedH1990 = drive.CreateFile({'id':idH1990})  \n",
        "downloadedH1990.GetContentFile('houDec1990.csv')\n",
        "downloadedHV1990 = drive.CreateFile({'id':idHV1990})  \n",
        "downloadedHV1990.GetContentFile('houVDec1990.csv')\n",
        "downloadedH2000 = drive.CreateFile({'id':idH2000})  \n",
        "downloadedH2000.GetContentFile('houDec2000.csv')\n",
        "downloadedHV2000 = drive.CreateFile({'id':idHV2000})  \n",
        "downloadedHV2000.GetContentFile('houVDec2000.csv')\n",
        "downloadedH2010 = drive.CreateFile({'id':idH2010})  \n",
        "downloadedH2010.GetContentFile('houDec2010.csv')\n",
        "downloadedHV2010 = drive.CreateFile({'id':idHV2010})  \n",
        "downloadedHV2010.GetContentFile('houVDec2010.csv')\n",
        "\n",
        "#senate\n",
        "inputedCongressTablea = pd.read_csv('senateTable03a.csv') \n",
        "inputedCongressTableb = pd.read_csv('senateTable03b.csv') \n",
        "ist1990 = pd.read_csv('senDec1990.csv') \n",
        "ist2000 = pd.read_csv('senDec2000.csv') \n",
        "ist2010 = pd.read_csv('senDec2010.csv') \n",
        "inputedVoteTablea = pd.read_csv('senateVoteTable03a.csv') \n",
        "inputedVoteTableb = pd.read_csv('senateVoteTable03b.csv')\n",
        "isvt1990 = pd.read_csv('senVDec1990.csv') \n",
        "isvt2000 = pd.read_csv('senVDec2000.csv') \n",
        "isvt2010 = pd.read_csv('senVDec2010.csv') \n",
        "\n",
        "#house\n",
        "inputedHouseTablea = pd.read_csv('houseTable03a.csv') \n",
        "inputedhouseVoteTablea = pd.read_csv('houseVoteTable03a.csv') \n",
        "iht1970 = pd.read_csv('houDec1970.csv') \n",
        "iht1980 = pd.read_csv('houDec1980.csv') \n",
        "iht1990 = pd.read_csv('houDec1990.csv') \n",
        "iht2000 = pd.read_csv('houDec2000.csv') \n",
        "iht2010 = pd.read_csv('houDec2010.csv') \n",
        "ihvt1970 = pd.read_csv('houVDec1970.csv') \n",
        "ihvt1980 = pd.read_csv('houVDec1980.csv') \n",
        "ihvt1990 = pd.read_csv('houVDec1990.csv') \n",
        "ihvt2000 = pd.read_csv('houVDec2000.csv') \n",
        "ihvt2010 = pd.read_csv('houVDec2010.csv') "
      ],
      "execution_count": null,
      "outputs": []
    },
    {
      "cell_type": "markdown",
      "metadata": {
        "id": "V4d0-LOSFGm8"
      },
      "source": [
        "### Delete attribute that gets added during csv conversion"
      ]
    },
    {
      "cell_type": "code",
      "metadata": {
        "id": "qISGwULaFWm_"
      },
      "source": [
        "#additional columns that need to be deleted\n",
        "del ist1990['Unnamed: 0']\n",
        "del ist2000['Unnamed: 0']\n",
        "del ist2010['Unnamed: 0']\n",
        "del isvt1990['Unnamed: 0']\n",
        "del isvt2000['Unnamed: 0']\n",
        "del isvt2010['Unnamed: 0']\n",
        "del inputedCongressTablea['Unnamed: 0']\n",
        "del inputedCongressTableb['Unnamed: 0']\n",
        "del inputedVoteTablea['Unnamed: 0']\n",
        "del inputedVoteTableb['Unnamed: 0']\n"
      ],
      "execution_count": null,
      "outputs": []
    },
    {
      "cell_type": "code",
      "metadata": {
        "id": "VXwFNQ_bW-w0"
      },
      "source": [
        "#delete artifacts from Excel\n",
        "del iht1970['Unnamed: 0']\n",
        "del iht1980['Unnamed: 0']\n",
        "del iht1990['Unnamed: 0']\n",
        "del iht2000['Unnamed: 0']\n",
        "del iht2010['Unnamed: 0']\n",
        "del ihvt1970['Unnamed: 0']\n",
        "del ihvt1980['Unnamed: 0']\n",
        "del ihvt1990['Unnamed: 0']\n",
        "del ihvt2000['Unnamed: 0']\n",
        "del ihvt2010['Unnamed: 0']\n",
        "del inputedHouseTablea['Unnamed: 0']\n",
        "del inputedhouseVoteTablea['Unnamed: 0']\n"
      ],
      "execution_count": null,
      "outputs": []
    },
    {
      "cell_type": "markdown",
      "metadata": {
        "id": "9nr9V7RhFcQz"
      },
      "source": [
        "### Batch Stitching\n",
        "The next set of steps is to take the different senate/house tables and senate/house vote tables and to stitch them all together into a singular senate/house table and singular senate/house vote table.\n",
        "\n",
        "Again, the most important thing is to preseve the link between the voteIDs of the two tables, although we also ensure that there are no duplicate CIDs."
      ]
    },
    {
      "cell_type": "code",
      "metadata": {
        "id": "0zXIyCJr49x4"
      },
      "source": [
        "#columns that needed to be deleted and duplicate data from senate table b needed to be dropped\n",
        "inputedCongressTableb = inputedCongressTableb[:8763] #only keep stuff before 1990 because everything after will be added by decade"
      ],
      "execution_count": null,
      "outputs": []
    },
    {
      "cell_type": "code",
      "metadata": {
        "id": "1zpDIMuYdHTr"
      },
      "source": [
        "#merging the congressTable together since were seperated due to size issues. This is putting a + b together\n",
        "inputedCongressTableb['CID'] = inputedCongressTableb['CID'] + len(inputedCongressTablea['CID']);\n",
        "inputedCongressTableb['VoteID'] = inputedCongressTableb['VoteID'] + len(inputedCongressTablea['VoteID']);\n",
        "\n",
        "frames = [inputedCongressTablea, inputedCongressTableb];\n",
        "inputedCongressTable = pd.concat(frames, sort = False);\n",
        "inputedCongressTable = inputedCongressTable.reset_index();\n",
        "del inputedCongressTable['index'];\n",
        "\n",
        "#changing all the types to int or float for later operations\n",
        "inputedCongressTable.astype({'CID': 'int32'});\n",
        "inputedCongressTable.astype({'CName' : 'int32'});\n",
        "inputedCongressTable.astype({'VoteID': 'int32'});\n",
        "inputedCongressTable['PercentYea'] = inputedCongressTable['PercentYea'].replace(\"unknown\", np.NaN);\n",
        "inputedCongressTable.astype({'PercentYea': 'float'});\n",
        "inputedCongressTable['Representation'] = inputedCongressTable['Representation'].replace(\"unknown\", np.NaN);\n",
        "inputedCongressTable.astype({'Representation': 'float'});\n"
      ],
      "execution_count": null,
      "outputs": []
    },
    {
      "cell_type": "code",
      "metadata": {
        "id": "VlpIc-yeXl_0"
      },
      "source": [
        "#This function takes in 2 dataframes that are used to add to the second argument\n",
        "#needed to work over all the different decades that we have\n",
        "def fix(smaller, addingTo):\n",
        "  smaller['CID'] = smaller['CID'] + addingTo.iloc[len(addingTo)-1, 0] + 1\n",
        "  smaller['VoteID'] = smaller['VoteID'] + addingTo.iloc[len(addingTo)-1, 4] + 1\n",
        "\n",
        "  frames = [addingTo, smaller]\n",
        "  addingTo = pd.concat(frames, sort = False)\n",
        "  addingTo = addingTo.reset_index()\n",
        "  del addingTo['index']\n",
        "\n",
        "  return addingTo "
      ],
      "execution_count": null,
      "outputs": []
    },
    {
      "cell_type": "code",
      "metadata": {
        "id": "h2o3tYH7XfQV"
      },
      "source": [
        "\n",
        "inputedCongressTable = fix(ist1990, inputedCongressTable)\n",
        "inputedCongressTable = fix(ist2000, inputedCongressTable)\n",
        "inputedCongressTable = fix(ist2010, inputedCongressTable)\n"
      ],
      "execution_count": null,
      "outputs": []
    },
    {
      "cell_type": "code",
      "metadata": {
        "id": "LBciszBObS7s"
      },
      "source": [
        "inputedVoteTableb = inputedVoteTableb[:25517] # needed to find in the csv file b where 1991 first started and drop that to use the proper decades table\n",
        "#this was cross referenced via VID in the corresponding senateTable data"
      ],
      "execution_count": null,
      "outputs": []
    },
    {
      "cell_type": "code",
      "metadata": {
        "id": "uIESLti8dSi1"
      },
      "source": [
        "#merging votetables a + b of senate together\n",
        "inputedVoteTableb['VID'] = inputedVoteTableb['VID'] + len(inputedCongressTablea['CID']) #ensuring proper VID on b starting from where a left off\n",
        "\n",
        "#concatenating them together\n",
        "frames = [inputedVoteTablea, inputedVoteTableb]\n",
        "inputedVoteTable = pd.concat(frames, sort = False)\n",
        "inputedVoteTable = inputedVoteTable.reset_index()\n",
        "del inputedVoteTable['index']\n"
      ],
      "execution_count": null,
      "outputs": []
    },
    {
      "cell_type": "code",
      "metadata": {
        "id": "qIxXefU2ZRru"
      },
      "source": [
        "def fixVT(smaller, addingTo):\n",
        "  #merging votetables a + b of senate together\n",
        "  smaller['VID'] = smaller['VID'] + addingTo.iloc[len(addingTo['VID'])- 1, 0] + 1 #ensuring proper VID on b starting from where a left off\n",
        "\n",
        "  #concatenating them together\n",
        "  frames = [addingTo, smaller]\n",
        "  addingTo = pd.concat(frames, sort = False)\n",
        "  addingTo = addingTo.reset_index()\n",
        "  del addingTo['index']\n",
        "  return addingTo\n"
      ],
      "execution_count": null,
      "outputs": []
    },
    {
      "cell_type": "code",
      "metadata": {
        "id": "K-cnxrd_Zt2e"
      },
      "source": [
        "#call our functions to correctly stitch everything together\n",
        "inputedVoteTable = fixVT(isvt1990, inputedVoteTable)\n",
        "inputedVoteTable = fixVT(isvt2000, inputedVoteTable)\n",
        "inputedVoteTable = fixVT(isvt2010, inputedVoteTable)\n"
      ],
      "execution_count": null,
      "outputs": []
    },
    {
      "cell_type": "code",
      "metadata": {
        "id": "84DgI8NJWput"
      },
      "source": [
        "#call our functions to correctly stitch everything together\n",
        "inputedHouseTable = fix(iht1970, inputedHouseTablea);\n",
        "inputedHouseTable = fix(iht1980, inputedHouseTable);\n",
        "inputedHouseTable = fix(iht1990, inputedHouseTable);\n",
        "inputedHouseTable = fix(iht2000, inputedHouseTable);\n",
        "inputedHouseTable = fix(iht2010, inputedHouseTable);"
      ],
      "execution_count": null,
      "outputs": []
    },
    {
      "cell_type": "code",
      "metadata": {
        "id": "FIKON4MJY73Q"
      },
      "source": [
        "#call out functions to correctly stitch everything together\n",
        "inputedHouseVoteTable = fixVT(ihvt1970, inputedhouseVoteTablea);\n",
        "inputedHouseVoteTable = fixVT(ihvt1980, inputedHouseVoteTable);\n",
        "inputedHouseVoteTable = fixVT(ihvt1990, inputedHouseVoteTable);\n",
        "inputedHouseVoteTable = fixVT(ihvt2000, inputedHouseVoteTable);\n",
        "inputedHouseVoteTable = fixVT(ihvt2010, inputedHouseVoteTable);"
      ],
      "execution_count": null,
      "outputs": []
    },
    {
      "cell_type": "markdown",
      "metadata": {
        "id": "GLbLh5xhwCfo"
      },
      "source": [
        "### Final Cleaning\n",
        "\n",
        "Ensure dates are in date-time format so we can easily reference months/years later in later ML sections."
      ]
    },
    {
      "cell_type": "code",
      "metadata": {
        "id": "YR9Cj59_-k9R"
      },
      "source": [
        "#Change to date time\n",
        "inputedHouseTable['Date'] = pd.to_datetime(inputedHouseTable['Date'], format='%Y-%m-%d')"
      ],
      "execution_count": null,
      "outputs": []
    },
    {
      "cell_type": "code",
      "metadata": {
        "id": "L9oumBwjdVdy"
      },
      "source": [
        "#Changing the date from string to date time\n",
        "inputedCongressTable['Date'] = pd.to_datetime(inputedCongressTable['Date'], format='%Y-%m-%d')\n"
      ],
      "execution_count": null,
      "outputs": []
    },
    {
      "cell_type": "markdown",
      "metadata": {
        "id": "up6R9NT4wU36"
      },
      "source": [
        "### Final Post-Processing\n",
        "\n",
        "The more variables or attributes that are provided, the more options that you have when building machine learning models. We wanted to incorporate three more attributes to each vote that are not explicitly generated in the scrape that might aid in building a comprehensive model.\n",
        "\n",
        "1. 4Code - This attribute represents the years that a president has been in office, per term. For example, Obama was elected in 2008, so 2008 has a 4code of 0. 2009, 2010, and 2011 have the codes 1,2, and 3 respectively. He was re-elected in 2012, so 2012 has a 4code of of 0. This pattern repeats. Because presidents have four year terms, this is essentially year % 4\n",
        "2. 8Code -  This attribut represents the years that a president has been in office, over both terms. As with code4, 2008 has a 4code of 0. 2009, 2010, and 2011 still have the codes 1,2, and 3 respectively. However, 2012 has a code8 == 4 and 2013, 2014, 2015 have code8's of 5, 6, and 7 respectively.\n",
        "3. Month - the month that the vote occured."
      ]
    },
    {
      "cell_type": "code",
      "metadata": {
        "id": "wj3DF3a-qoVl"
      },
      "source": [
        "#Note that you have to manually enter the 8Code converter dictionary based on election results.\n",
        "CodeConverter = {\n",
        "        1940: 0,\n",
        "        1941: 1,\n",
        "        1942: 2,\n",
        "        1943: 3,\n",
        "        1944: 4,\n",
        "        1945: 5,\n",
        "        1946: 6,\n",
        "        1947: 7,\n",
        "        1948: 0,\n",
        "        1949: 1,\n",
        "        1950: 2,\n",
        "        1951: 3,\n",
        "        1952: 0,\n",
        "        1953: 1,\n",
        "        1954: 2,\n",
        "        1955: 3,\n",
        "        1956: 4,\n",
        "        1957: 5,\n",
        "        1958: 6,\n",
        "        1959: 7,\n",
        "        1960: 0,\n",
        "        1961: 1,\n",
        "        1962: 2,\n",
        "        1963: 3,\n",
        "        1964: 4,\n",
        "        1965: 5,\n",
        "        1966: 6,\n",
        "        1967: 7,\n",
        "        1968: 0,\n",
        "        1969: 1,\n",
        "        1970: 2,\n",
        "        1971: 3,\n",
        "        1972: 4,\n",
        "        1973: 5,\n",
        "        1974: 6,\n",
        "        1975: 7,\n",
        "        1976: 0,\n",
        "        1977: 1,\n",
        "        1978: 2,\n",
        "        1979: 3,\n",
        "        1980: 0,\n",
        "        1981: 1,\n",
        "        1982: 2,\n",
        "        1983: 3,\n",
        "        1984: 4,\n",
        "        1985: 5,\n",
        "        1986: 6,\n",
        "        1987: 7,\n",
        "        1988: 0,\n",
        "        1989: 1,\n",
        "        1990: 2,\n",
        "        1991: 3,\n",
        "        1992: 0,\n",
        "        1993: 1,\n",
        "        1994: 2,\n",
        "        1995: 3,\n",
        "        1996: 4,\n",
        "        1997: 5,\n",
        "        1998: 6,\n",
        "        1999: 7,\n",
        "        2000: 0,\n",
        "        2001: 1,\n",
        "        2002: 2,\n",
        "        2003: 3,\n",
        "        2004: 4,\n",
        "        2005: 5,\n",
        "        2006: 6,\n",
        "        2007: 7,\n",
        "        2008: 0,\n",
        "        2009: 1,\n",
        "        2010: 2,\n",
        "        2011: 3,\n",
        "        2012: 4,\n",
        "        2013: 5,\n",
        "        2014: 6,\n",
        "        2015: 7,\n",
        "        2016: 0,\n",
        "        2017: 1,\n",
        "        2018: 2,\n",
        "        2019: 3,\n",
        "        2020: 0,\n",
        "        }"
      ],
      "execution_count": null,
      "outputs": []
    },
    {
      "cell_type": "code",
      "metadata": {
        "id": "lt07eVhskoIU"
      },
      "source": [
        "#adding the code converter digits to the respective spots in the dataframe to be used for ML later!\n",
        "for index, row in inputedCongressTable.iterrows():\n",
        "  inputedCongressTable.loc[index, '4Code'] = inputedCongressTable.loc[index, 'Date'].year %4\n",
        "  inputedCongressTable.loc[index, '8Code'] = CodeConverter[inputedCongressTable.loc[index, 'Date'].year]\n",
        "  inputedCongressTable.loc[index, 'Month'] = inputedCongressTable.loc[index, 'Date'].month\n"
      ],
      "execution_count": null,
      "outputs": []
    },
    {
      "cell_type": "code",
      "metadata": {
        "id": "ZguIwIwxWrRQ"
      },
      "source": [
        "for index, row in inputedHouseTable.iterrows():\n",
        "  inputedHouseTable.loc[index, '4Code'] = inputedHouseTable.loc[index, 'Date'].year %4\n",
        "  inputedHouseTable.loc[index, '8Code'] = CodeConverter[inputedHouseTable.loc[index, 'Date'].year]\n",
        "  inputedHouseTable.loc[index, 'Month'] = inputedHouseTable.loc[index, 'Date'].month\n"
      ],
      "execution_count": null,
      "outputs": []
    },
    {
      "cell_type": "markdown",
      "metadata": {
        "id": "FA1RfIlguuhL"
      },
      "source": [
        "### Download finished data\n",
        "\n",
        "At this point, we reccommend the final tables, so you can have a saved copy of them, and you can follow the steps of everyone else who is coming in at that point."
      ]
    },
    {
      "cell_type": "code",
      "metadata": {
        "id": "yTJP4orfu6mO",
        "colab": {
          "base_uri": "https://localhost:8080/",
          "height": 17
        },
        "outputId": "956983ec-6f5f-4e3f-db03-7b2ba437bfac"
      },
      "source": [
        "inputedCongressTable.to_csv('senateCongressTable.csv')\n",
        "inputedHouseTable.to_csv('houseCongressTable.csv')\n",
        "inputedVoteTable.to_csv('senateVoteTable.csv')\n",
        "inputedHouseVoteTable.to_csv('houseVoteTable.csv')\n",
        "\n",
        "files.download('senateCongressTable.csv')\n",
        "files.download('houseCongressTable.csv')\n",
        "files.download('senateVoteTable.csv')\n",
        "files.download('houseVoteTable.csv')"
      ],
      "execution_count": null,
      "outputs": [
        {
          "output_type": "display_data",
          "data": {
            "application/javascript": [
              "\n",
              "    async function download(id, filename, size) {\n",
              "      if (!google.colab.kernel.accessAllowed) {\n",
              "        return;\n",
              "      }\n",
              "      const div = document.createElement('div');\n",
              "      const label = document.createElement('label');\n",
              "      label.textContent = `Downloading \"${filename}\": `;\n",
              "      div.appendChild(label);\n",
              "      const progress = document.createElement('progress');\n",
              "      progress.max = size;\n",
              "      div.appendChild(progress);\n",
              "      document.body.appendChild(div);\n",
              "\n",
              "      const buffers = [];\n",
              "      let downloaded = 0;\n",
              "\n",
              "      const channel = await google.colab.kernel.comms.open(id);\n",
              "      // Send a message to notify the kernel that we're ready.\n",
              "      channel.send({})\n",
              "\n",
              "      for await (const message of channel.messages) {\n",
              "        // Send a message to notify the kernel that we're ready.\n",
              "        channel.send({})\n",
              "        if (message.buffers) {\n",
              "          for (const buffer of message.buffers) {\n",
              "            buffers.push(buffer);\n",
              "            downloaded += buffer.byteLength;\n",
              "            progress.value = downloaded;\n",
              "          }\n",
              "        }\n",
              "      }\n",
              "      const blob = new Blob(buffers, {type: 'application/binary'});\n",
              "      const a = document.createElement('a');\n",
              "      a.href = window.URL.createObjectURL(blob);\n",
              "      a.download = filename;\n",
              "      div.appendChild(a);\n",
              "      a.click();\n",
              "      div.remove();\n",
              "    }\n",
              "  "
            ],
            "text/plain": [
              "<IPython.core.display.Javascript object>"
            ]
          },
          "metadata": {
            "tags": []
          }
        },
        {
          "output_type": "display_data",
          "data": {
            "application/javascript": [
              "download(\"download_c6e05f52-4adb-40f0-9280-8b0cb3176e2c\", \"senateCongressTable.csv\", 6754729)"
            ],
            "text/plain": [
              "<IPython.core.display.Javascript object>"
            ]
          },
          "metadata": {
            "tags": []
          }
        },
        {
          "output_type": "display_data",
          "data": {
            "application/javascript": [
              "\n",
              "    async function download(id, filename, size) {\n",
              "      if (!google.colab.kernel.accessAllowed) {\n",
              "        return;\n",
              "      }\n",
              "      const div = document.createElement('div');\n",
              "      const label = document.createElement('label');\n",
              "      label.textContent = `Downloading \"${filename}\": `;\n",
              "      div.appendChild(label);\n",
              "      const progress = document.createElement('progress');\n",
              "      progress.max = size;\n",
              "      div.appendChild(progress);\n",
              "      document.body.appendChild(div);\n",
              "\n",
              "      const buffers = [];\n",
              "      let downloaded = 0;\n",
              "\n",
              "      const channel = await google.colab.kernel.comms.open(id);\n",
              "      // Send a message to notify the kernel that we're ready.\n",
              "      channel.send({})\n",
              "\n",
              "      for await (const message of channel.messages) {\n",
              "        // Send a message to notify the kernel that we're ready.\n",
              "        channel.send({})\n",
              "        if (message.buffers) {\n",
              "          for (const buffer of message.buffers) {\n",
              "            buffers.push(buffer);\n",
              "            downloaded += buffer.byteLength;\n",
              "            progress.value = downloaded;\n",
              "          }\n",
              "        }\n",
              "      }\n",
              "      const blob = new Blob(buffers, {type: 'application/binary'});\n",
              "      const a = document.createElement('a');\n",
              "      a.href = window.URL.createObjectURL(blob);\n",
              "      a.download = filename;\n",
              "      div.appendChild(a);\n",
              "      a.click();\n",
              "      div.remove();\n",
              "    }\n",
              "  "
            ],
            "text/plain": [
              "<IPython.core.display.Javascript object>"
            ]
          },
          "metadata": {
            "tags": []
          }
        },
        {
          "output_type": "display_data",
          "data": {
            "application/javascript": [
              "download(\"download_a277872b-4699-406d-af0d-1392dbbd6c0d\", \"houseCongressTable.csv\", 8189985)"
            ],
            "text/plain": [
              "<IPython.core.display.Javascript object>"
            ]
          },
          "metadata": {
            "tags": []
          }
        },
        {
          "output_type": "display_data",
          "data": {
            "application/javascript": [
              "\n",
              "    async function download(id, filename, size) {\n",
              "      if (!google.colab.kernel.accessAllowed) {\n",
              "        return;\n",
              "      }\n",
              "      const div = document.createElement('div');\n",
              "      const label = document.createElement('label');\n",
              "      label.textContent = `Downloading \"${filename}\": `;\n",
              "      div.appendChild(label);\n",
              "      const progress = document.createElement('progress');\n",
              "      progress.max = size;\n",
              "      div.appendChild(progress);\n",
              "      document.body.appendChild(div);\n",
              "\n",
              "      const buffers = [];\n",
              "      let downloaded = 0;\n",
              "\n",
              "      const channel = await google.colab.kernel.comms.open(id);\n",
              "      // Send a message to notify the kernel that we're ready.\n",
              "      channel.send({})\n",
              "\n",
              "      for await (const message of channel.messages) {\n",
              "        // Send a message to notify the kernel that we're ready.\n",
              "        channel.send({})\n",
              "        if (message.buffers) {\n",
              "          for (const buffer of message.buffers) {\n",
              "            buffers.push(buffer);\n",
              "            downloaded += buffer.byteLength;\n",
              "            progress.value = downloaded;\n",
              "          }\n",
              "        }\n",
              "      }\n",
              "      const blob = new Blob(buffers, {type: 'application/binary'});\n",
              "      const a = document.createElement('a');\n",
              "      a.href = window.URL.createObjectURL(blob);\n",
              "      a.download = filename;\n",
              "      div.appendChild(a);\n",
              "      a.click();\n",
              "      div.remove();\n",
              "    }\n",
              "  "
            ],
            "text/plain": [
              "<IPython.core.display.Javascript object>"
            ]
          },
          "metadata": {
            "tags": []
          }
        },
        {
          "output_type": "display_data",
          "data": {
            "application/javascript": [
              "download(\"download_ed41541b-bc8f-4c66-9133-48d370974df5\", \"senateVoteTable.csv\", 2004844)"
            ],
            "text/plain": [
              "<IPython.core.display.Javascript object>"
            ]
          },
          "metadata": {
            "tags": []
          }
        },
        {
          "output_type": "display_data",
          "data": {
            "application/javascript": [
              "\n",
              "    async function download(id, filename, size) {\n",
              "      if (!google.colab.kernel.accessAllowed) {\n",
              "        return;\n",
              "      }\n",
              "      const div = document.createElement('div');\n",
              "      const label = document.createElement('label');\n",
              "      label.textContent = `Downloading \"${filename}\": `;\n",
              "      div.appendChild(label);\n",
              "      const progress = document.createElement('progress');\n",
              "      progress.max = size;\n",
              "      div.appendChild(progress);\n",
              "      document.body.appendChild(div);\n",
              "\n",
              "      const buffers = [];\n",
              "      let downloaded = 0;\n",
              "\n",
              "      const channel = await google.colab.kernel.comms.open(id);\n",
              "      // Send a message to notify the kernel that we're ready.\n",
              "      channel.send({})\n",
              "\n",
              "      for await (const message of channel.messages) {\n",
              "        // Send a message to notify the kernel that we're ready.\n",
              "        channel.send({})\n",
              "        if (message.buffers) {\n",
              "          for (const buffer of message.buffers) {\n",
              "            buffers.push(buffer);\n",
              "            downloaded += buffer.byteLength;\n",
              "            progress.value = downloaded;\n",
              "          }\n",
              "        }\n",
              "      }\n",
              "      const blob = new Blob(buffers, {type: 'application/binary'});\n",
              "      const a = document.createElement('a');\n",
              "      a.href = window.URL.createObjectURL(blob);\n",
              "      a.download = filename;\n",
              "      div.appendChild(a);\n",
              "      a.click();\n",
              "      div.remove();\n",
              "    }\n",
              "  "
            ],
            "text/plain": [
              "<IPython.core.display.Javascript object>"
            ]
          },
          "metadata": {
            "tags": []
          }
        },
        {
          "output_type": "display_data",
          "data": {
            "application/javascript": [
              "download(\"download_17be3b50-1768-4d94-b585-60087c09bba5\", \"houseVoteTable.csv\", 2821064)"
            ],
            "text/plain": [
              "<IPython.core.display.Javascript object>"
            ]
          },
          "metadata": {
            "tags": []
          }
        }
      ]
    },
    {
      "cell_type": "markdown",
      "metadata": {
        "id": "LC3m3dpeNNtQ"
      },
      "source": [
        "# Checkpoint: Use our data to avoid scraping\n",
        "\n",
        "At this point, we have finalized 4 tables that have all the raw data needed for the rest of the project. We reccommend that people interested in recreating this project to begin code execution at this point, before we begin further analysis."
      ]
    },
    {
      "cell_type": "markdown",
      "metadata": {
        "id": "gsdbT5YywzFB"
      },
      "source": [
        "### Read in CSVs"
      ]
    },
    {
      "cell_type": "code",
      "metadata": {
        "id": "mSvp4AqhN3mA"
      },
      "source": [
        "inputedCongressTable = pd.read_csv('/content/senateCongressTable.csv')\n",
        "inputedHouseTable = pd.read_csv('/content/houseCongressTable.csv')\n",
        "inputedVoteTable = pd.read_csv('/content/senateVoteTable.csv')\n",
        "inputedHouseVoteTable = pd.read_csv('/content/houseVoteTable.csv')"
      ],
      "execution_count": null,
      "outputs": []
    },
    {
      "cell_type": "markdown",
      "metadata": {
        "id": "MSKX0m_5wwQ9"
      },
      "source": [
        "### Clean dataframes\n",
        "\n",
        "Same methods as before"
      ]
    },
    {
      "cell_type": "code",
      "metadata": {
        "id": "fDtzIBQtw7cM"
      },
      "source": [
        "del inputedCongressTable['Unnamed: 0']\n",
        "del inputedHouseTable['Unnamed: 0']\n",
        "del inputedVoteTable['Unnamed: 0']\n",
        "del inputedHouseVoteTable['Unnamed: 0']"
      ],
      "execution_count": null,
      "outputs": []
    },
    {
      "cell_type": "markdown",
      "metadata": {
        "id": "VzEBcna33GZh"
      },
      "source": [
        "You are now ready to continue on to part 3"
      ]
    },
    {
      "cell_type": "markdown",
      "metadata": {
        "id": "mm0WsqC9L1ig"
      },
      "source": [
        "# Part 3: Exploratory Analysis & Data Visualization"
      ]
    },
    {
      "cell_type": "markdown",
      "metadata": {
        "id": "jR5E7CmFOPg9"
      },
      "source": [
        "### Senate Representation and PercentYea Analysis\n",
        "\n",
        "The Senate tables have the attribute Representation that was scraped into the congressTable dataframe. This attribute indicates what percent of the population is represented by the verdict of the motion: either Nay or Yea. The verdict can be determined by looking at the PercentYea attribute: percentYea values over 50 are Yea."
      ]
    },
    {
      "cell_type": "code",
      "metadata": {
        "id": "WHxr3OME8K1z",
        "colab": {
          "base_uri": "https://localhost:8080/"
        },
        "outputId": "8336eeec-f6ae-4622-8590-0988b0ecbc8c"
      },
      "source": [
        "#Handle the unknowns\n",
        "inputedCongressTable['PercentYea'] = inputedCongressTable['PercentYea'].replace(\"unknown\", np.NaN)\n",
        "inputedCongressTable['PercentYea'] = inputedCongressTable['PercentYea'].astype(float)\n",
        "inputedCongressTable['Representation'] = inputedCongressTable['Representation'].replace(\"unknown\", np.NaN)\n",
        "inputedCongressTable['Representation'] = inputedCongressTable['Representation'].astype(float)\n",
        "print(\"Percent of America represented by the winning vote on average over the entire dataset: \" + str(inputedCongressTable['Representation'].mean()))\n",
        "print(\"Percent of Senators that voted Yea on average over the entire dataset: \" + str(inputedCongressTable['PercentYea'].mean()))\n"
      ],
      "execution_count": null,
      "outputs": [
        {
          "output_type": "stream",
          "text": [
            "Percent of America represented by the winning vote on average over the entire dataset: 70.71474823208656\n",
            "Percent of Senators that voted Yea on average over the entire dataset: 62.13940427656211\n"
          ],
          "name": "stdout"
        }
      ]
    },
    {
      "cell_type": "markdown",
      "metadata": {
        "id": "YaAAuXay8T_g"
      },
      "source": [
        "On average 71% of Americans are represented by the winning vote in the senate and 62% of the time a senator will vote yes. \n",
        "\n",
        "This may seem rather odd, how can senators represent almost 3/4 of the country on average from 1941 - 2020? It is important to remember that during this time period there were periods of unity where large chunks of the country would be in agreement for a particular bill. The media tends to skew how we see partisanship. This is not trying to explain away partisanship, because that does exists and that will be seen! However, it is important to note that throughout US history congress has not always been this divided, at least by this metric. \n",
        "\n",
        "The high senate Yea vote can be partially explained by what was explained previously. The more recent years could still contribute to this trend. Let us take a look at that directly! What does Percent Yea over time look like?"
      ]
    },
    {
      "cell_type": "code",
      "metadata": {
        "id": "ThpvQfnC8X5M",
        "colab": {
          "base_uri": "https://localhost:8080/",
          "height": 295
        },
        "outputId": "45f83637-3665-4cc1-cef1-b0f3e2706d31"
      },
      "source": [
        "grouped = inputedCongressTable.groupby('CName');\n",
        "toPlot = grouped['PercentYea'].agg(np.mean);\n",
        "keys = grouped.groups.keys();\n",
        "plt.scatter(keys, toPlot);\n",
        "plt.title('Percent Voting Yea in the Senate')\n",
        "plt.xlabel('Congress Number')\n",
        "plt.ylabel('Percent Yea')\n",
        "plt.show()"
      ],
      "execution_count": null,
      "outputs": [
        {
          "output_type": "display_data",
          "data": {
            "image/png": "[encoded data removed]",
            "text/plain": [
              "<Figure size 432x288 with 1 Axes>"
            ]
          },
          "metadata": {
            "tags": [],
            "needs_background": "light"
          }
        }
      ]
    },
    {
      "cell_type": "markdown",
      "metadata": {
        "id": "C5AffbmK8bZx"
      },
      "source": [
        "When we group by individual congress ID over time it seems as if senators were voting on average more for yes! Could this indicate more unity across the parties? \n",
        "\n",
        "While this is unlikely that cannot be ruled out. One possible explanation would be that only bills that are \"certain\" to pass will be brought to the floor in order to avoid wasting time. Most deals are done behind closed doors away from the public. See this example for how Deocrats managed to push through [Health Care Reform](http://www.digitaljournal.com/article/285771).\n",
        "While that is only one example the HuffPost made a link [here](https://www.huffpost.com/entry/backroom-deals-a-bipartis_b_442330) about these examples throughout history!\n"
      ]
    },
    {
      "cell_type": "code",
      "metadata": {
        "id": "u7BZvnsc8eTb",
        "colab": {
          "base_uri": "https://localhost:8080/",
          "height": 295
        },
        "outputId": "740864d5-5f59-4b56-b3c2-7a72a56d941b"
      },
      "source": [
        "grouped = inputedCongressTable.groupby('CName');\n",
        "toPlot = grouped['Representation'].agg(np.mean);\n",
        "keys = grouped.groups.keys();\n",
        "plt.scatter(keys, toPlot);\n",
        "plt.title('Representation Percent in the Senate')\n",
        "plt.xlabel('Congress ID')\n",
        "plt.ylabel('Representation Percentage')\n",
        "plt.show()"
      ],
      "execution_count": null,
      "outputs": [
        {
          "output_type": "display_data",
          "data": {
            "image/png": "[encoded data removed]",
            "text/plain": [
              "<Figure size 432x288 with 1 Axes>"
            ]
          },
          "metadata": {
            "tags": [],
            "needs_background": "light"
          }
        }
      ]
    },
    {
      "cell_type": "markdown",
      "metadata": {
        "id": "ZXodBvHO8gVn"
      },
      "source": [
        "Going back to representation of the people we see an interesting inverted U. This is the first strong example of partisanship. Why? Well the senate is equally weighted among all states (Two senators each), as a result a smaller state like Wyoming will have equal reprsenation with a behemoth like New York, this was well documented by [The Guardian](https://www.theguardian.com/us-news/2018/nov/08/democrats-republicans-senate-majority-minority-rule). \n",
        "\n",
        "Because of this we can see a reversion to lower representation percentage as republicans only represent smaller parts of the country but have equal and at times even larger say in the vote in the senate\n",
        "\n"
      ]
    },
    {
      "cell_type": "markdown",
      "metadata": {
        "id": "84lG4YyLRlqz"
      },
      "source": [
        "## Partisanship in Congress\n",
        "\n",
        "Let us now switch our focus to seeing the difference between Republicans and Democrats when voting over time. "
      ]
    },
    {
      "cell_type": "markdown",
      "metadata": {
        "id": "tgGjBeZvTB-U"
      },
      "source": [
        "### Partisanship in the Senate"
      ]
    },
    {
      "cell_type": "markdown",
      "metadata": {
        "id": "rWlBdtp-j-nw"
      },
      "source": [
        "We need a way to define a vote ID to a \"partisanship score\" meaning, \"was a specific vote particularly partisan\". We will define this as the number of republicans that voted along party lines, vs the number of democrats that voted across party lines. The formulas are listed below the cell!"
      ]
    },
    {
      "cell_type": "code",
      "metadata": {
        "id": "RP1ZP7wafLgD"
      },
      "source": [
        "currVID = 0;\n",
        "repConsensusList = [];\n",
        "demConsensusList = [];\n",
        "cooperationList = [];\n",
        "\n",
        "for i in range(len(inputedCongressTable['VoteID'])):\n",
        "  #print(i)\n",
        "  temp = inputedVoteTable[inputedVoteTable['VID'].isin([i,i])]\n",
        "  #print(temp)\n",
        "  repSum = temp['Republicans'].sum();\n",
        "  demSum = temp['Democrats'].sum();\n",
        "\n",
        "    \n",
        "  if len(temp) > 1 and temp.iloc[0][1] == 'Yea' and temp.iloc[1][1] == 'Nay': # if we have a yea and a nay use them\n",
        "    repY = temp.iloc[0][3]\n",
        "    repN = temp.iloc[1][3]\n",
        "    \n",
        "    repConsensus = abs(repY - repN) / repSum\n",
        "\n",
        "    demY = temp.iloc[0][4]\n",
        "    demN = temp.iloc[1][4]\n",
        "    \n",
        "    demConsensus = abs(demY - demN) / demSum\n",
        "\n",
        "    cooperation = abs((repY/repSum) - (demY/demSum))\n",
        "    repConsensusList.append(repConsensus)\n",
        "    demConsensusList.append(demConsensus)\n",
        "    cooperationList.append(cooperation)\n",
        "  else: #otherwise we have republican disagreement by not voting with the party\n",
        "    repY = temp.iloc[0][3]\n",
        "    repN = repSum - repY\n",
        "    \n",
        "    repConsensus = abs(repY - repN) / repSum\n",
        "\n",
        "    demY = temp.iloc[0][4]\n",
        "    demN = repSum - repY\n",
        "    \n",
        "    demConsensus = abs(demY - demN) / demSum\n",
        "\n",
        "    cooperation = abs((repY/repSum) - (demY/demSum))\n",
        "    repConsensusList.append(repConsensus)\n",
        "    demConsensusList.append(demConsensus)\n",
        "    cooperationList.append(cooperation)\n",
        " "
      ],
      "execution_count": null,
      "outputs": []
    },
    {
      "cell_type": "markdown",
      "metadata": {
        "id": "SjMC-390ks7k"
      },
      "source": [
        "demC will be the consensus among democrats on some bill computed as: \n",
        "|Democrat Yea Vote - Democrat Nay Vote| / Total Democrat votes\n",
        "This is calculated exactly the same for republicans \n",
        "Cooperation the inverse of partisanship is calculated as \n",
        "| (Republican Yea/Republican Total) - (Democrat Yea / Democrat Total) |"
      ]
    },
    {
      "cell_type": "code",
      "metadata": {
        "id": "YBZ1IoHnfqUi"
      },
      "source": [
        "#Use a copy to preserve the original table\n",
        "ict = inputedCongressTable.copy()\n",
        "\n",
        "#turning to numpy array for insertion\n",
        "rCLA = np.array(repConsensusList);\n",
        "dCLA = np.array(demConsensusList);\n",
        "cCLA = np.array(cooperationList);\n",
        "\n",
        "ict.insert(11,\"repC\",rCLA)\n",
        "ict.insert(11,\"demC\",dCLA)\n",
        "ict.insert(11,\"Partisanship\",cCLA)"
      ],
      "execution_count": null,
      "outputs": []
    },
    {
      "cell_type": "markdown",
      "metadata": {
        "id": "Ap9CYSWmlAOO"
      },
      "source": [
        "After having the respective demC and repC values we can being analyzing it. Let us take a look at the data given if we can plot a regression directly."
      ]
    },
    {
      "cell_type": "code",
      "metadata": {
        "id": "NSyXoC9Vo21t",
        "colab": {
          "base_uri": "https://localhost:8080/",
          "height": 295
        },
        "outputId": "9e562262-6a9c-42d6-f5b4-13a6f6d6903a"
      },
      "source": [
        "plt.scatter(ict['Date'], ict['demC']);\n",
        "plt.title('Democratic Cooperation over the Years')\n",
        "plt.xlabel('Year')\n",
        "plt.ylabel('Democratic Cooperation Percentage')\n",
        "plt.show()"
      ],
      "execution_count": null,
      "outputs": [
        {
          "output_type": "display_data",
          "data": {
            "image/png": "[encoded data removed]",
            "text/plain": [
              "<Figure size 432x288 with 1 Axes>"
            ]
          },
          "metadata": {
            "tags": [],
            "needs_background": "light"
          }
        }
      ]
    },
    {
      "cell_type": "markdown",
      "metadata": {
        "id": "za9D_ti06cax"
      },
      "source": [
        "This graph is too hectic to decipher anything, so let us average on the years for both democrats and republicans to see if a trend exists. "
      ]
    },
    {
      "cell_type": "code",
      "metadata": {
        "id": "84An8O1AhOBF"
      },
      "source": [
        "#method that allows to pass in some datframe and the column to use for temp variable as averaging per year\n",
        "def avgDataOverYears(home, columnName):\n",
        "  toReturn = [];\n",
        "  for i in range(1941,2020,1): #change after new tables come in\n",
        "    #print(i)\n",
        "    temp = home[home['year'].isin([i,i])]\n",
        "    #print(temp)\n",
        "    avgVal = temp[columnName].mean();\n",
        "    # if math.isnan(demCAvg):\n",
        "    #   print(i)\n",
        "    toReturn.append(avgVal)\n",
        "  return toReturn;"
      ],
      "execution_count": null,
      "outputs": []
    },
    {
      "cell_type": "code",
      "metadata": {
        "id": "MpAn8W_IZjy6"
      },
      "source": [
        "tempDf = ict.copy() #make another copy to not affect the previous\n",
        "tempDf['year'] = pd.DatetimeIndex(tempDf['Date']).year #isolate year as a variable to allow for use in regression as a variable\n"
      ],
      "execution_count": null,
      "outputs": []
    },
    {
      "cell_type": "code",
      "metadata": {
        "id": "elDM_I5TcqBV"
      },
      "source": [
        "demCAvgRunning = avgDataOverYears(tempDf, 'demC')\n",
        "repCAvgRunning = avgDataOverYears(tempDf, 'repC')\n",
        "coopAvgRunning = avgDataOverYears(tempDf, 'Partisanship')"
      ],
      "execution_count": null,
      "outputs": []
    },
    {
      "cell_type": "code",
      "metadata": {
        "id": "4JfovpfL7WOt",
        "colab": {
          "base_uri": "https://localhost:8080/",
          "height": 295
        },
        "outputId": "deec8647-e8b8-405b-dd38-84ec328f2d81"
      },
      "source": [
        "rCAR = np.array(repCAvgRunning);\n",
        "years = [i for i in range(1941,2020,1)]\n",
        "year = range(1941,2020,1)\n",
        "\n",
        "\n",
        "b,m = polyfit(years,rCAR, 1)\n",
        "plt.plot(year, m*year +b, label=(\"Slope = \" + str(m)));\n",
        "plt.scatter(year, rCAR);\n",
        "plt.title('Republican Consensus over the Years')\n",
        "plt.xlabel('Year')\n",
        "plt.ylabel('Percent in Agreement')\n",
        "plt.legend(loc=\"upper left\")\n",
        "plt.show()\n"
      ],
      "execution_count": null,
      "outputs": [
        {
          "output_type": "display_data",
          "data": {
            "image/png": "[encoded data removed]",
            "text/plain": [
              "<Figure size 432x288 with 1 Axes>"
            ]
          },
          "metadata": {
            "tags": [],
            "needs_background": "light"
          }
        }
      ]
    },
    {
      "cell_type": "code",
      "metadata": {
        "id": "O9o5Zixeurm_",
        "colab": {
          "base_uri": "https://localhost:8080/",
          "height": 295
        },
        "outputId": "25a250a3-e7b0-447d-df5c-444648a41da7"
      },
      "source": [
        "dCAR = np.array(demCAvgRunning);\n",
        "\n",
        "years = [i for i in range(1941,2020,1)]\n",
        "year = range(1941,2020,1)\n",
        "\n",
        "b,m = polyfit(years,dCAR, 1)\n",
        "plt.plot(year, m*year +b, label=(\"Slope = \" + str(m)));\n",
        "plt.scatter(year, dCAR);\n",
        "plt.title('Democratic Consensus over the Years')\n",
        "plt.xlabel('Year')\n",
        "plt.ylabel('Percent in Agreement')\n",
        "plt.legend(loc=\"upper left\")\n",
        "plt.show()"
      ],
      "execution_count": null,
      "outputs": [
        {
          "output_type": "display_data",
          "data": {
            "image/png": "[encoded data removed]",
            "text/plain": [
              "<Figure size 432x288 with 1 Axes>"
            ]
          },
          "metadata": {
            "tags": [],
            "needs_background": "light"
          }
        }
      ]
    },
    {
      "cell_type": "markdown",
      "metadata": {
        "id": "-k1OW41Rmj14"
      },
      "source": [
        "**Observations**"
      ]
    },
    {
      "cell_type": "markdown",
      "metadata": {
        "id": "Cp3xhpL47afh"
      },
      "source": [
        "Strong correlation for both parties to have more in-group consensus over time. We do see slight drops from the 60-80's and then a rapid increase thereafter! \n",
        "\n",
        "This is supported by [Time](https://time.com/2862299/how-the-united-states-is-growing-more-partisan-in-10-charts/) which presented work by the Pew Research Center. The graph titled Polrization and Presidential Approval shows smaller differences between Republicans and Democrats during the 60-80's.\n",
        "\n",
        "Small drops are seen every four/eight years. That is of much interest and will be explored in the Machine Learning section.\n",
        "\n",
        "It can be noted that democratic consensus has increased a lot more to catch up, and even surpass, average republican consensus. If both republican/democratic in-group cooperativity has increased partisanship must have also increased, right?\n"
      ]
    },
    {
      "cell_type": "code",
      "metadata": {
        "id": "Aa7FtJEJjTAt",
        "colab": {
          "base_uri": "https://localhost:8080/",
          "height": 295
        },
        "outputId": "6d3ab601-ae5f-4f6c-a5c1-4f677597914c"
      },
      "source": [
        "cCar = np.array(coopAvgRunning);\n",
        "\n",
        "years = [i for i in range(1941,2020,1)]\n",
        "year = range(1941,2020,1)\n",
        "\n",
        "b,m = polyfit(years,cCar, 1)\n",
        "plt.plot(year, m*year +b, label=(\"Slope = \" + str(m)));\n",
        "plt.scatter(year, cCar);\n",
        "plt.title('Partisanship over the Years')\n",
        "plt.xlabel('Year')\n",
        "plt.ylabel('Percent in Agreement')\n",
        "plt.legend(loc=\"upper left\")\n",
        "plt.show()"
      ],
      "execution_count": null,
      "outputs": [
        {
          "output_type": "display_data",
          "data": {
            "image/png": "[encoded data removed]",
            "text/plain": [
              "<Figure size 432x288 with 1 Axes>"
            ]
          },
          "metadata": {
            "tags": [],
            "needs_background": "light"
          }
        }
      ]
    },
    {
      "cell_type": "markdown",
      "metadata": {
        "id": "ufgPxKN8kHF0"
      },
      "source": [
        "Yes, that is exactly what we see the Partisanship graph mirrors the Democratic and Republican division."
      ]
    },
    {
      "cell_type": "markdown",
      "metadata": {
        "id": "2yPlZPrS5CE1"
      },
      "source": [
        "### Partisanship in the House\n",
        "\n",
        "Let us now do the exact same thing with the House!"
      ]
    },
    {
      "cell_type": "code",
      "metadata": {
        "id": "tiPH28zA0zB3",
        "colab": {
          "base_uri": "https://localhost:8080/"
        },
        "outputId": "e0919bf3-7182-4f83-ba89-ba8012f388c2"
      },
      "source": [
        "#Handle the unknowns\n",
        "inputedHouseTable['PercentYea'] = inputedHouseTable['PercentYea'].replace(\"unknown\", np.NaN)\n",
        "inputedHouseTable['PercentYea'] = inputedHouseTable['PercentYea'].astype(float)\n",
        "inputedHouseTable['Representation'] = inputedHouseTable['Representation'].replace(\"unknown\", np.NaN)\n",
        "inputedHouseTable['Representation'] = inputedHouseTable['Representation'].astype(float)\n",
        "print(\"No representation data available\")\n",
        "print(\"Percent of house members that voted Yea on average over the entire dataset: \" + str(inputedHouseTable['PercentYea'].mean()))\n"
      ],
      "execution_count": null,
      "outputs": [
        {
          "output_type": "stream",
          "text": [
            "No representation data available\n",
            "Percent of house members that voted Yea on average over the entire dataset: 70.88133315414595\n"
          ],
          "name": "stdout"
        }
      ]
    },
    {
      "cell_type": "markdown",
      "metadata": {
        "id": "acjH50_LZ7WK"
      },
      "source": [
        "We see in the house that on average over the years congressmen vote around yea about 70% of the time. This is about 8% higher than Senators. There is no current research on why this is, this remains to be investegated in the future. "
      ]
    },
    {
      "cell_type": "code",
      "metadata": {
        "id": "dOE6MiqL1m1U",
        "colab": {
          "base_uri": "https://localhost:8080/",
          "height": 295
        },
        "outputId": "2aab37c6-8f48-4835-e87e-b9efe149bfe6"
      },
      "source": [
        "grouped = inputedHouseTable.groupby('CName');\n",
        "toPlot = grouped['PercentYea'].agg(np.mean);\n",
        "keys = grouped.groups.keys();\n",
        "plt.scatter(keys, toPlot);\n",
        "plt.title('Percent Voting Yea in the House')\n",
        "plt.xlabel('Congress ID')\n",
        "plt.ylabel('Percent Yea')\n",
        "plt.show()"
      ],
      "execution_count": null,
      "outputs": [
        {
          "output_type": "display_data",
          "data": {
            "image/png": "[encoded data removed]",
            "text/plain": [
              "<Figure size 432x288 with 1 Axes>"
            ]
          },
          "metadata": {
            "tags": [],
            "needs_background": "light"
          }
        }
      ]
    },
    {
      "cell_type": "markdown",
      "metadata": {
        "id": "nPsn4DJ9R72S"
      },
      "source": [
        "The house is voting Yea much more than the senate as seen previously. It also experiences the four/eight year swings!"
      ]
    },
    {
      "cell_type": "code",
      "metadata": {
        "id": "R7QDNeOC2Mf3"
      },
      "source": [
        "currVID = 0;\n",
        "repConsensusList = [];\n",
        "demConsensusList = [];\n",
        "cooperationList = [];\n",
        "\n",
        "for i in range(len(inputedHouseTable['VoteID'])):\n",
        "  temp = inputedHouseVoteTable[inputedHouseVoteTable['VID'].isin([i,i])]\n",
        "  #print(temp)\n",
        "  repSum = temp['Republicans'].sum();\n",
        "  demSum = temp['Democrats'].sum();\n",
        "\n",
        "    \n",
        "  if len(temp) > 1 and temp.iloc[0][1] == 'Yea' and temp.iloc[1][1] == 'Nay': # if we have a yea and a nay use them\n",
        "    repY = temp.iloc[0][3]\n",
        "    repN = temp.iloc[1][3]\n",
        "    \n",
        "    repConsensus = abs(repY - repN) / repSum\n",
        "\n",
        "    demY = temp.iloc[0][4]\n",
        "    demN = temp.iloc[1][4]\n",
        "    \n",
        "    demConsensus = abs(demY - demN) / demSum\n",
        "\n",
        "    cooperation = abs((repY/repSum) - (demY/demSum))\n",
        "    repConsensusList.append(repConsensus)\n",
        "    demConsensusList.append(demConsensus)\n",
        "    cooperationList.append(cooperation)\n",
        "  else: #otherwise we have republican disagreement by not voting with the party\n",
        "    repY = temp.iloc[0][3]\n",
        "    repN = repSum - repY\n",
        "    \n",
        "    repConsensus = abs(repY - repN) / repSum\n",
        "\n",
        "    demY = temp.iloc[0][4]\n",
        "    demN = repSum - repY\n",
        "    \n",
        "    demConsensus = abs(demY - demN) / demSum\n",
        "\n",
        "    cooperation = abs((repY/repSum) - (demY/demSum))\n",
        "    repConsensusList.append(repConsensus)\n",
        "    demConsensusList.append(demConsensus)\n",
        "    cooperationList.append(cooperation)"
      ],
      "execution_count": null,
      "outputs": []
    },
    {
      "cell_type": "code",
      "metadata": {
        "id": "A-fP9dRA4pJA"
      },
      "source": [
        "ictH = inputedHouseTable.copy()\n",
        "rCLA = np.array(repConsensusList);\n",
        "dCLA = np.array(demConsensusList);\n",
        "cCLA = np.array(cooperationList);\n",
        "\n",
        "ictH.insert(11,\"repC\",rCLA)\n",
        "ictH.insert(11,\"demC\",dCLA)\n",
        "ictH.insert(11,\"Partisanship\",cCLA)"
      ],
      "execution_count": null,
      "outputs": []
    },
    {
      "cell_type": "code",
      "metadata": {
        "id": "vclt6Aggaj9I",
        "colab": {
          "base_uri": "https://localhost:8080/",
          "height": 295
        },
        "outputId": "362387bb-5882-4863-b3a6-cb123d2957ac"
      },
      "source": [
        "plt.scatter(ictH['Date'], ictH['repC']);\n",
        "plt.title('Democratic Cooperation over the Years')\n",
        "plt.xlabel('Year')\n",
        "plt.ylabel('Republican Cooperation Percentage')\n",
        "plt.show()"
      ],
      "execution_count": null,
      "outputs": [
        {
          "output_type": "display_data",
          "data": {
            "image/png": "[encoded data removed]",
            "text/plain": [
              "<Figure size 432x288 with 1 Axes>"
            ]
          },
          "metadata": {
            "tags": [],
            "needs_background": "light"
          }
        }
      ]
    },
    {
      "cell_type": "markdown",
      "metadata": {
        "id": "xVkFhT0oKPkE"
      },
      "source": [
        "Again this is way to hectic so we will average on the year."
      ]
    },
    {
      "cell_type": "code",
      "metadata": {
        "id": "-JJWeRlQe7cY"
      },
      "source": [
        "tempDf = ictH.copy() #make another copy to not affect the previous\n",
        "tempDf['year'] = pd.DatetimeIndex(tempDf['Date']).year #isolate year as a variable to allow for use in regression as a variable\n"
      ],
      "execution_count": null,
      "outputs": []
    },
    {
      "cell_type": "code",
      "metadata": {
        "id": "E2TAoMm1c4UY"
      },
      "source": [
        "demCAvgRunning = avgDataOverYears(tempDf, 'demC')\n",
        "repCAvgRunning = avgDataOverYears(tempDf, 'repC')\n",
        "coopAvgRunning = avgDataOverYears(tempDf, 'Partisanship')"
      ],
      "execution_count": null,
      "outputs": []
    },
    {
      "cell_type": "code",
      "metadata": {
        "id": "qe9wM7_-fCjO",
        "colab": {
          "base_uri": "https://localhost:8080/",
          "height": 295
        },
        "outputId": "3dd2ab2f-adb4-45ea-96a6-597cb1db58cb"
      },
      "source": [
        "rCAR = np.array(repCAvgRunning);\n",
        "years = [i for i in range(1941,2020,1)]\n",
        "year = range(1941,2020,1)\n",
        "\n",
        "\n",
        "b,m = polyfit(years,rCAR, 1)\n",
        "plt.plot(year, m*year +b, label=(\"Slope = \" + str(m)));\n",
        "plt.scatter(year, rCAR);\n",
        "plt.title('Republican Consensus over the Years')\n",
        "plt.xlabel('Year')\n",
        "plt.ylabel('Percent in Agreement')\n",
        "plt.legend(loc=\"upper left\")\n",
        "plt.show()\n"
      ],
      "execution_count": null,
      "outputs": [
        {
          "output_type": "display_data",
          "data": {
            "image/png": "[encoded data removed]",
            "text/plain": [
              "<Figure size 432x288 with 1 Axes>"
            ]
          },
          "metadata": {
            "tags": [],
            "needs_background": "light"
          }
        }
      ]
    },
    {
      "cell_type": "code",
      "metadata": {
        "id": "P0e-xM8EfCjQ",
        "colab": {
          "base_uri": "https://localhost:8080/",
          "height": 295
        },
        "outputId": "21e39fb4-3b25-4512-aefc-156efe8124bf"
      },
      "source": [
        "dCAR = np.array(demCAvgRunning);\n",
        "\n",
        "years = [i for i in range(1941,2020,1)]\n",
        "year = range(1941,2020,1)\n",
        "\n",
        "b,m = polyfit(years,dCAR, 1)\n",
        "plt.plot(year, m*year +b, label=(\"Slope = \" + str(m)));\n",
        "plt.scatter(year, dCAR);\n",
        "plt.title('Democratic Consensus over the Years')\n",
        "plt.xlabel('Year')\n",
        "plt.ylabel('Percent in Agreement')\n",
        "plt.legend(loc=\"upper left\")\n",
        "plt.show()"
      ],
      "execution_count": null,
      "outputs": [
        {
          "output_type": "display_data",
          "data": {
            "image/png": "[encoded data removed]",
            "text/plain": [
              "<Figure size 432x288 with 1 Axes>"
            ]
          },
          "metadata": {
            "tags": [],
            "needs_background": "light"
          }
        }
      ]
    },
    {
      "cell_type": "markdown",
      "metadata": {
        "id": "zasSBkn4nFBt"
      },
      "source": [
        "**Observations**"
      ]
    },
    {
      "cell_type": "markdown",
      "metadata": {
        "id": "1T1PSWaWTi--"
      },
      "source": [
        "Similarly to the Senate we see broad increase from both parties. However it is important to note that there is much less cooperation from the democrats in the House. On average they only have 60% cooperation in 2020 based on the regression line, whereas the republicans have about 82% cooperation!\n",
        "\n",
        "The divide in the democratic party has been [documented](https://time.com/4951191/divided-democratic-party-debates-its-future/) previously, starting as early as 2017. One reason for why this was not seen in the Senate is that the Senate requires increased cooperation among Demoracts to fight the Republican majority. \n"
      ]
    },
    {
      "cell_type": "code",
      "metadata": {
        "id": "DkPE-gWJdAe1",
        "colab": {
          "base_uri": "https://localhost:8080/",
          "height": 295
        },
        "outputId": "9689080c-316f-4c91-90df-9d959b06555c"
      },
      "source": [
        "cCar = np.array(coopAvgRunning);\n",
        "\n",
        "years = [i for i in range(1941,2020,1)]\n",
        "year = range(1941,2020,1)\n",
        "\n",
        "b,m = polyfit(years,cCar, 1)\n",
        "plt.plot(year, m*year +b, label=(\"Slope = \" + str(m)));\n",
        "plt.scatter(year, cCar);\n",
        "plt.title('Partisanship over the Years')\n",
        "plt.xlabel('Year')\n",
        "plt.ylabel('Percent in Agreement')\n",
        "plt.legend(loc=\"upper left\")\n",
        "plt.show()"
      ],
      "execution_count": null,
      "outputs": [
        {
          "output_type": "display_data",
          "data": {
            "image/png": "[encoded data removed]",
            "text/plain": [
              "<Figure size 432x288 with 1 Axes>"
            ]
          },
          "metadata": {
            "tags": [],
            "needs_background": "light"
          }
        }
      ]
    },
    {
      "cell_type": "markdown",
      "metadata": {
        "id": "RvE9Nc3dUSTg"
      },
      "source": [
        "As expected we see an increase in partisanship over the years. This research supports work done by [Pew](https://www.pewresearch.org/fact-tank/2014/06/12/polarized-politics-in-congress-began-in-the-1970s-and-has-been-getting-worse-ever-since/) that the current Congress polarization began in the 1970's. Both the Senate and House Partisanship graphs show a hard turn upward in 1970.\n",
        "\n",
        "The other notiable kink in the graph 2001. That can be explained by unity following the 9/11 terrorist attacks."
      ]
    },
    {
      "cell_type": "markdown",
      "metadata": {
        "id": "GLvmAqd8G5Tc"
      },
      "source": [
        "# Part 4: Analysis, Hypothesis Testing and Machine Learning"
      ]
    },
    {
      "cell_type": "markdown",
      "metadata": {
        "id": "FrpvRi9TT4WE"
      },
      "source": [
        "## The Necessity of Averaging\n",
        "\n",
        "As we saw above, there are too many points in a single year to do any predicitve measurements, the scatter is too great. However if averaged over every year general trends over time can be extracted, and that is the goal in this section."
      ]
    },
    {
      "cell_type": "code",
      "metadata": {
        "id": "F8x4JeFqaWU3"
      },
      "source": [
        "#Need to isolate year\n",
        "pML = ict.copy()\n",
        "pMLH = tempDf.copy()\n",
        "\n",
        "pML['year'] = pd.DatetimeIndex(pML['Date']).year\n",
        "pMLH['year'] = pd.DatetimeIndex(pMLH['Date']).year\n"
      ],
      "execution_count": null,
      "outputs": []
    },
    {
      "cell_type": "code",
      "metadata": {
        "id": "7eWaTZf1X8km"
      },
      "source": [
        "#making a dataframe for average data on year for senate\n",
        "demCAvgRunning = avgDataOverYears(pML, 'demC')\n",
        "repCAvgRunning = avgDataOverYears(pML, 'repC')\n",
        "pY = avgDataOverYears(pML, 'PercentYea')\n",
        "Rep = avgDataOverYears(pML, 'Representation')\n",
        "Partisanship = avgDataOverYears(pML, 'Partisanship')\n",
        "fourCode = avgDataOverYears(pML, '4Code')\n",
        "eightCode = avgDataOverYears(pML, '8Code')\n",
        "Month = avgDataOverYears(pML, 'Month')"
      ],
      "execution_count": null,
      "outputs": []
    },
    {
      "cell_type": "code",
      "metadata": {
        "id": "Q0Fm9kaxiA6W"
      },
      "source": [
        "data = {'DemC' : demCAvgRunning,\n",
        "             'RepC' : repCAvgRunning,\n",
        "             'percentYea' : pY,\n",
        "             'Rep' : Rep,\n",
        "             \"Partisanship\" : Partisanship,\n",
        "        'Year' : [i for i in range(1941, 2020, 1)],\n",
        "        '4Code': fourCode,\n",
        "        '8Code' : eightCode,\n",
        "        'Month' : Month\n",
        "        }\n",
        "df = pd.DataFrame(data)"
      ],
      "execution_count": null,
      "outputs": []
    },
    {
      "cell_type": "code",
      "metadata": {
        "id": "7sdtnaodlEIb"
      },
      "source": [
        "#making a dataframe for average data on year for house\n",
        "demCAvgRunning = avgDataOverYears(pMLH, 'demC')\n",
        "repCAvgRunning = avgDataOverYears(pMLH, 'repC')\n",
        "pY = avgDataOverYears(pMLH, 'PercentYea')\n",
        "Rep = avgDataOverYears(pMLH, 'Representation')\n",
        "Partisanship = avgDataOverYears(pMLH, 'Partisanship')\n",
        "fourCode = avgDataOverYears(pMLH, '4Code')\n",
        "eightCode = avgDataOverYears(pMLH, '8Code')\n",
        "Month = avgDataOverYears(pMLH, 'Month')"
      ],
      "execution_count": null,
      "outputs": []
    },
    {
      "cell_type": "code",
      "metadata": {
        "id": "9Up8G3-TYlwo"
      },
      "source": [
        "data = {'DemC' : demCAvgRunning,\n",
        "             'RepC' : repCAvgRunning,\n",
        "             'percentYea' : pY,\n",
        "             'Rep' : Rep,\n",
        "             \"Partisanship\" : Partisanship,\n",
        "        'Year' : [i for i in range(1941, 2020, 1)],\n",
        "        '4Code': fourCode,\n",
        "        '8Code' : eightCode,\n",
        "        'Month' : Month\n",
        "        }\n",
        "dfH = pd.DataFrame(data)"
      ],
      "execution_count": null,
      "outputs": []
    },
    {
      "cell_type": "markdown",
      "metadata": {
        "id": "9hx8nt79U67l"
      },
      "source": [
        "We now want to see if the partisanship that was documented through single linear regressions in our previous graphs can be supported by multiple variables!"
      ]
    },
    {
      "cell_type": "markdown",
      "metadata": {
        "id": "DoIWX3V8o9JU"
      },
      "source": [
        "## Senate: Multilinear Linear Regression\n",
        "\n",
        "DemC + RepC + Percent Yea = Partisanship?"
      ]
    },
    {
      "cell_type": "markdown",
      "metadata": {
        "id": "ZJFdRzVYV2mC"
      },
      "source": [
        "A multilinear linear regression was chosen as the first analysis because it would be expected that with democratic and republican cooperation increasing partisanship should also increase. Percent Yea was also tested to see if it was a reliable source for prediciton. It could have gone one of two ways: \n",
        "1. Senators agree more because they only vote on what is expected \n",
        "2. Partisanship always gets in the way. \n",
        "\n",
        "The results seem to indicate a mixture as it was an inconsequential value."
      ]
    },
    {
      "cell_type": "code",
      "metadata": {
        "id": "6v2L3RhboeHr",
        "colab": {
          "base_uri": "https://localhost:8080/",
          "height": 248
        },
        "outputId": "afb68a1a-bacc-4fce-9b2b-007042401f97"
      },
      "source": [
        "ax = plt.axes(projection =\"3d\")\n",
        " \n",
        "# Creating plot\n",
        "ax.scatter3D(df['DemC'], df['RepC'], df['percentYea'], color = \"green\")\n",
        "plt.title(\"simple 3D scatter plot\")\n",
        " \n",
        "# show plot\n",
        "plt.show()"
      ],
      "execution_count": null,
      "outputs": [
        {
          "output_type": "display_data",
          "data": {
            "image/png": "[encoded data removed]",
            "text/plain": [
              "<Figure size 432x288 with 1 Axes>"
            ]
          },
          "metadata": {
            "tags": [],
            "needs_background": "light"
          }
        }
      ]
    },
    {
      "cell_type": "markdown",
      "metadata": {
        "id": "xMkhNvz9VDUF"
      },
      "source": [
        "There is possible correlation in this graph, lets dive further"
      ]
    },
    {
      "cell_type": "code",
      "metadata": {
        "id": "GH_YoBMrVDZY",
        "colab": {
          "base_uri": "https://localhost:8080/"
        },
        "outputId": "bb0bafa6-543b-4f02-cbc6-3e334dc5ca71"
      },
      "source": [
        "#Make numpy array which will be our feature vector\n",
        "endArr = np.array([[1,df.iloc[0][0], df.iloc[0][1], df.iloc[0][2]], [1, df.iloc[1][0], df.iloc[1][1],  df.iloc[1][2]]])\n",
        "\n",
        "tempArr = np.array([])\n",
        "for i  in range(2,len(df),1):\n",
        "  endArr = np.append(endArr,[[1, df.iloc[i][0], df.iloc[i][1],  df.iloc[i][2]]],axis=0)\n",
        "\n",
        "regression_model = LinearRegression()\n",
        "x = np.array(endArr)\n",
        "\n",
        "regression_model.fit(x, df['Partisanship'])\n",
        "print('Slope:' ,regression_model.coef_) \n"
      ],
      "execution_count": null,
      "outputs": [
        {
          "output_type": "stream",
          "text": [
            "Slope: [ 0.          0.609832    0.42284413 -0.00956396]\n"
          ],
          "name": "stdout"
        }
      ]
    },
    {
      "cell_type": "code",
      "metadata": {
        "id": "QKli-0DAHtS1",
        "colab": {
          "base_uri": "https://localhost:8080/"
        },
        "outputId": "c0bfd359-d91b-4a9b-8356-98531e2754ec"
      },
      "source": [
        "#Randomly picks training and test data\n",
        "X_train, X_test, y_train, y_test = train_test_split(x, df['Partisanship'], test_size=0.2)\n",
        "regression_model.fit(X_train, y_train)\n",
        "scores = cross_val_score(regression_model, X_train, y_train, cv=10)\n",
        "print(\"Scores:\", scores)\n",
        "print(\"Mean:\", scores.mean())\n",
        "print(\"Standard deviation:\", scores.std())"
      ],
      "execution_count": null,
      "outputs": [
        {
          "output_type": "stream",
          "text": [
            "Scores: [0.90724752 0.72889833 0.7918995  0.77703357 0.93510983 0.73810438\n",
            " 0.77897966 0.89442525 0.90986349 0.67074636]\n",
            "Mean: 0.8132307899368696\n",
            "Standard deviation: 0.08695988937968296\n"
          ],
          "name": "stdout"
        }
      ]
    },
    {
      "cell_type": "markdown",
      "metadata": {
        "id": "v6L2-DDIVhxE"
      },
      "source": [
        "We can see if over a 10 K Fold split there is strong predictive qualities"
      ]
    },
    {
      "cell_type": "code",
      "metadata": {
        "id": "d_Me21yQ7yjI",
        "colab": {
          "base_uri": "https://localhost:8080/"
        },
        "outputId": "d769b6d7-2a3d-4d32-e812-9649e125c9eb"
      },
      "source": [
        "regression_model.score(X_test, y_test)"
      ],
      "execution_count": null,
      "outputs": [
        {
          "output_type": "execute_result",
          "data": {
            "text/plain": [
              "0.930899636148423"
            ]
          },
          "metadata": {
            "tags": []
          },
          "execution_count": 73
        }
      ]
    },
    {
      "cell_type": "markdown",
      "metadata": {
        "id": "zU5LfDiFpSYc"
      },
      "source": [
        "A linear regression multivariate model looking at Democratic Coopertion, Republican Cooperation and Percent of Senators voting yea CAN predict Partisanship over time. However, it is important to note that based on the given slopes percent yea cannot be a reliable source. \n",
        "The model works around 93% accuracy which is extremely reliable."
      ]
    },
    {
      "cell_type": "markdown",
      "metadata": {
        "id": "jhPe9GzWZBEp"
      },
      "source": [
        "## House: Multilinear Linear Regression \n",
        "\n",
        "DemC + RepC + Percent Yea = Partisanship?"
      ]
    },
    {
      "cell_type": "code",
      "metadata": {
        "id": "9Okbp2QtZBEq",
        "colab": {
          "base_uri": "https://localhost:8080/",
          "height": 248
        },
        "outputId": "eb5e521f-e650-4635-f6ae-221202143378"
      },
      "source": [
        "ax = plt.axes(projection =\"3d\")\n",
        " \n",
        "# Creating plot\n",
        "ax.scatter3D(dfH['DemC'], dfH['RepC'], dfH['percentYea'], color = \"green\")\n",
        "plt.title(\"simple 3D scatter plot\")\n",
        " \n",
        "# show plot\n",
        "plt.show()"
      ],
      "execution_count": null,
      "outputs": [
        {
          "output_type": "display_data",
          "data": {
            "image/png": "[encoded data removed]",
            "text/plain": [
              "<Figure size 432x288 with 1 Axes>"
            ]
          },
          "metadata": {
            "tags": [],
            "needs_background": "light"
          }
        }
      ]
    },
    {
      "cell_type": "markdown",
      "metadata": {
        "id": "9uKewF46ZBEq"
      },
      "source": [
        "There is possible correlation in this graph, lets dive further"
      ]
    },
    {
      "cell_type": "code",
      "metadata": {
        "id": "s2gnQsQdZBEq",
        "colab": {
          "base_uri": "https://localhost:8080/"
        },
        "outputId": "e48a1bdc-74a8-4bcc-84d8-f12b9aaca694"
      },
      "source": [
        "#Make numpy array which will be our feature vector\n",
        "endArr = np.array([[1,dfH.iloc[0][0], dfH.iloc[0][1], dfH.iloc[0][2]], [1, dfH.iloc[1][0], dfH.iloc[1][1],  dfH.iloc[1][2]]])\n",
        "\n",
        "tempArr = np.array([])\n",
        "for i  in range(2,len(dfH),1):\n",
        "  endArr = np.append(endArr,[[1, dfH.iloc[i][0], dfH.iloc[i][1],  dfH.iloc[i][2]]],axis=0)\n",
        "\n",
        "regression_model = LinearRegression()\n",
        "x = np.array(endArr)\n",
        "regression_model.fit(x, dfH['Partisanship'])\n",
        "print('Slope:' ,regression_model.coef_) \n"
      ],
      "execution_count": null,
      "outputs": [
        {
          "output_type": "stream",
          "text": [
            "Slope: [ 0.          0.08820857  1.25251728 -0.01390667]\n"
          ],
          "name": "stdout"
        }
      ]
    },
    {
      "cell_type": "code",
      "metadata": {
        "id": "Dehm050NZBEr",
        "colab": {
          "base_uri": "https://localhost:8080/"
        },
        "outputId": "db19cdee-b818-40a1-cfea-f01ed7373489"
      },
      "source": [
        "#Randomly picks training and test data\n",
        "X_train, X_test, y_train, y_test = train_test_split(x, dfH['Partisanship'], test_size=0.2)\n",
        "regression_model.fit(X_train, y_train)\n",
        "scores = cross_val_score(regression_model, X_train, y_train, cv=10)\n",
        "print(\"Scores:\", scores)\n",
        "print(\"Mean:\", scores.mean())\n",
        "print(\"Standard deviation:\", scores.std())"
      ],
      "execution_count": null,
      "outputs": [
        {
          "output_type": "stream",
          "text": [
            "Scores: [ 0.86779607 -0.42675364  0.79915378  0.13010448  0.56998672  0.72356408\n",
            "  0.71999351  0.7664609  -0.54923708  0.85055626]\n",
            "Mean: 0.44516250645014016\n",
            "Standard deviation: 0.5087687268841252\n"
          ],
          "name": "stdout"
        }
      ]
    },
    {
      "cell_type": "markdown",
      "metadata": {
        "id": "qibFkRWtZBEr"
      },
      "source": [
        "We can see if over a 10 K Fold split there is strong predictive qualities"
      ]
    },
    {
      "cell_type": "code",
      "metadata": {
        "id": "MW-YGFqZZBEr",
        "colab": {
          "base_uri": "https://localhost:8080/"
        },
        "outputId": "23c778aa-e732-47d1-e000-40043f8e5e2e"
      },
      "source": [
        "regression_model.score(X_test, y_test)"
      ],
      "execution_count": null,
      "outputs": [
        {
          "output_type": "execute_result",
          "data": {
            "text/plain": [
              "0.9252687193829312"
            ]
          },
          "metadata": {
            "tags": []
          },
          "execution_count": 78
        }
      ]
    },
    {
      "cell_type": "markdown",
      "metadata": {
        "id": "lLY5b4v9ZBEr"
      },
      "source": [
        "A linear regression multivariate model looking at Democratic Coopertion, Republican Cooperation and Percent of representatives voting yea CAN predict Partisanship over time. However, it is important to note that based on the given slopes percent yea cannot be a reliable source. \n",
        "The model works around 92% accuracy which is reliable, but slightly lower than the same model for the Senate."
      ]
    },
    {
      "cell_type": "markdown",
      "metadata": {
        "id": "8Fuxc7n8plQT"
      },
      "source": [
        "## Senate Ridge Regression"
      ]
    },
    {
      "cell_type": "markdown",
      "metadata": {
        "id": "gaaie7ITZz6v"
      },
      "source": [
        "A Ridge regression was chosen because we believed their might be some correlation between predictor variables, and the ridge regression allows for those to be considered in the model."
      ]
    },
    {
      "cell_type": "code",
      "metadata": {
        "id": "JRFu72-P77Gw"
      },
      "source": [
        "#Make numpy array which will be our feature vector\n",
        "endArr = np.array([[1,df.iloc[0][0], df.iloc[0][1], df.iloc[0][2]], [1, df.iloc[1][0], df.iloc[1][1],  df.iloc[1][2]]])\n",
        "\n",
        "tempArr = np.array([])\n",
        "for i  in range(2,len(df),1):\n",
        "  endArr = np.append(endArr,[[1, df.iloc[i][0], df.iloc[i][1],  df.iloc[i][2]]],axis=0)\n",
        "\n",
        "regression_model = LinearRegression()\n",
        "x = np.array(endArr)\n",
        "X_train, X_test, y_train, y_test = train_test_split(x, df['Partisanship'], test_size=0.2)\n",
        "\n",
        "# define model\n",
        "model = Ridge(alpha=1.0)\n",
        "# define model evaluation method\n",
        "cv = RepeatedKFold(n_splits=10, n_repeats=3, random_state=1)\n",
        "model.fit(X_train, y_train)\n",
        "# evaluate model\n",
        "scores = cross_val_score(model, X_train, y_train, cv=cv, n_jobs=-1)\n"
      ],
      "execution_count": null,
      "outputs": []
    },
    {
      "cell_type": "code",
      "metadata": {
        "id": "gLirsUz6p3xK",
        "colab": {
          "base_uri": "https://localhost:8080/"
        },
        "outputId": "14b5fdb4-c5c6-42c5-e79d-9843d7f7171c"
      },
      "source": [
        "print(\"Scores:\", scores)\n",
        "print(\"Mean:\", scores.mean())\n",
        "print(\"Standard deviation:\", scores.std())"
      ],
      "execution_count": null,
      "outputs": [
        {
          "output_type": "stream",
          "text": [
            "Scores: [ 0.25596571  0.42952457  0.79386279  0.59962142  0.76985353  0.74338159\n",
            "  0.69936952  0.58510689  0.77465369  0.58888648  0.71419333  0.71711938\n",
            "  0.6992036   0.29060224  0.48202878  0.5720719   0.50030599  0.83150934\n",
            "  0.68045469  0.6821312  -0.15835739  0.70092514  0.49315729  0.62541897\n",
            "  0.65780173  0.82933916  0.70897875  0.74483527  0.94559133  0.67625738]\n",
            "Mean: 0.6211264759294451\n",
            "Standard deviation: 0.207919543661092\n"
          ],
          "name": "stdout"
        }
      ]
    },
    {
      "cell_type": "code",
      "metadata": {
        "id": "VwO9mfUQ8uNG",
        "colab": {
          "base_uri": "https://localhost:8080/"
        },
        "outputId": "a4a0d8e0-257c-4b3b-f110-66f630077a92"
      },
      "source": [
        "model.score(X_test, y_test)"
      ],
      "execution_count": null,
      "outputs": [
        {
          "output_type": "execute_result",
          "data": {
            "text/plain": [
              "0.7386797112026059"
            ]
          },
          "metadata": {
            "tags": []
          },
          "execution_count": 81
        }
      ]
    },
    {
      "cell_type": "markdown",
      "metadata": {
        "id": "W84Jh5jZaNXx"
      },
      "source": [
        "The ridge regression model did not perform as well on the data as the linear model did we can reject the null hypothesis that there was correlation between predictor values."
      ]
    },
    {
      "cell_type": "markdown",
      "metadata": {
        "id": "24C-J4mEacEu"
      },
      "source": [
        "## House Ridge Regression"
      ]
    },
    {
      "cell_type": "markdown",
      "metadata": {
        "id": "i2g6XfjxacEv"
      },
      "source": [
        "A Ridge regression was chosen because we believed their might be some correlation between predictor variables, and the ridge regression allows for those to be considered in the model."
      ]
    },
    {
      "cell_type": "code",
      "metadata": {
        "id": "G7ZnmwxcacEv"
      },
      "source": [
        "#Make numpy array which will be our feature vector\n",
        "endArr = np.array([[1,dfH.iloc[0][0], dfH.iloc[0][1], dfH.iloc[0][2]], [1, dfH.iloc[1][0], dfH.iloc[1][1],  dfH.iloc[1][2]]])\n",
        "\n",
        "tempArr = np.array([])\n",
        "for i  in range(2,len(dfH),1):\n",
        "  endArr = np.append(endArr,[[1, dfH.iloc[i][0], dfH.iloc[i][1],  dfH.iloc[i][2]]],axis=0)\n",
        "\n",
        "regression_model = LinearRegression()\n",
        "x = np.array(endArr)\n",
        "X_train, X_test, y_train, y_test = train_test_split(x, dfH['Partisanship'], test_size=0.2)\n",
        "\n",
        "# define model\n",
        "model = Ridge(alpha=1.0)\n",
        "# define model evaluation method\n",
        "cv = RepeatedKFold(n_splits=10, n_repeats=3, random_state=1)\n",
        "model.fit(X_train, y_train)\n",
        "# evaluate model\n",
        "scores = cross_val_score(model, X_train, y_train, cv=cv, n_jobs=-1)\n"
      ],
      "execution_count": null,
      "outputs": []
    },
    {
      "cell_type": "code",
      "metadata": {
        "id": "VlpuErjfacEw",
        "colab": {
          "base_uri": "https://localhost:8080/"
        },
        "outputId": "71a04f3c-8951-423d-9d0f-8f707da3a56d"
      },
      "source": [
        "print(\"Scores:\", scores)\n",
        "print(\"Mean:\", scores.mean())\n",
        "print(\"Standard deviation:\", scores.std())"
      ],
      "execution_count": null,
      "outputs": [
        {
          "output_type": "stream",
          "text": [
            "Scores: [ 0.48754308  0.36318277  0.51936049  0.3980991   0.39362406  0.40504296\n",
            "  0.3369951   0.36991557  0.41544953  0.61373277  0.51999539  0.34696885\n",
            "  0.42294998 -1.17663792  0.29288798  0.53519984  0.12205279  0.44583343\n",
            "  0.43580989  0.41579261  0.33085251  0.34494673  0.45579905  0.47636819\n",
            "  0.3067904   0.46389625  0.45068234  0.5567717   0.37143741  0.503426  ]\n",
            "Mean: 0.36415896221743205\n",
            "Standard deviation: 0.30099530239874095\n"
          ],
          "name": "stdout"
        }
      ]
    },
    {
      "cell_type": "code",
      "metadata": {
        "id": "8YT124g4acEz",
        "colab": {
          "base_uri": "https://localhost:8080/"
        },
        "outputId": "dd127f47-b4f5-40ed-b318-b44f8ec09c9e"
      },
      "source": [
        "model.score(X_test, y_test)"
      ],
      "execution_count": null,
      "outputs": [
        {
          "output_type": "execute_result",
          "data": {
            "text/plain": [
              "0.19989359508319196"
            ]
          },
          "metadata": {
            "tags": []
          },
          "execution_count": 84
        }
      ]
    },
    {
      "cell_type": "markdown",
      "metadata": {
        "id": "VXqJ022tacE0"
      },
      "source": [
        "The ridge regression model did not perform well at ALL on the data at all. We can reject the null hypothesis that there was correlation between predictor values."
      ]
    },
    {
      "cell_type": "markdown",
      "metadata": {
        "id": "PahxyebdmH4p"
      },
      "source": [
        "## Senate Nearest Neighbor\n",
        "\n",
        "Can we use the Nearest Neighbor algorithm to predict partisanship swings during election cycles? Our intuition was that congress would be more divided during election years (4code ==0 or 8code == 0) and less divided during the middle of a term. We found that the 8code is a better predictor, so that is used below."
      ]
    },
    {
      "cell_type": "code",
      "metadata": {
        "id": "VN1ej7hClxwo",
        "colab": {
          "base_uri": "https://localhost:8080/",
          "height": 248
        },
        "outputId": "0126859b-cc8b-4d1a-b64c-7820974e3cc3"
      },
      "source": [
        "ax = plt.axes(projection =\"3d\")\n",
        " \n",
        "# Creating plot\n",
        "ax.scatter3D(df['Month'], df['Year'], df['8Code'], color = \"green\")\n",
        "plt.title(\"simple 3D scatter plot\")\n",
        " \n",
        "# show plot\n",
        "plt.show()"
      ],
      "execution_count": null,
      "outputs": [
        {
          "output_type": "display_data",
          "data": {
            "image/png": "[encoded data removed]",
            "text/plain": [
              "<Figure size 432x288 with 1 Axes>"
            ]
          },
          "metadata": {
            "tags": [],
            "needs_background": "light"
          }
        }
      ]
    },
    {
      "cell_type": "code",
      "metadata": {
        "id": "Qf_Lpp5olxwp"
      },
      "source": [
        "#Make numpy array which will be our feature vector\n",
        "endArr = np.array([[1,df.iloc[0][8], df.iloc[0][5], df.iloc[0][7]], [1, df.iloc[1][8], df.iloc[1][5],  df.iloc[1][7]]])\n",
        "\n",
        "tempArr = np.array([])\n",
        "for i  in range(2,len(df),1):\n",
        "  endArr = np.append(endArr,[[1, df.iloc[i][8], df.iloc[i][5],  df.iloc[i][7]]],axis=0)\n",
        "x = np.array(endArr)\n",
        "#shuffle first\n",
        "X_train, X_test, y_train, y_test = train_test_split(x, df['Partisanship'], test_size=0.1)"
      ],
      "execution_count": null,
      "outputs": []
    },
    {
      "cell_type": "code",
      "metadata": {
        "id": "pjRy-fyilttL"
      },
      "source": [
        "rmse_val = [] #to store rmse values for different k\n",
        "for K in range(40):\n",
        "    K = K+1\n",
        "    model = neighbors.KNeighborsRegressor(n_neighbors = K, weights = 'distance', metric='manhattan')\n",
        "\n",
        "    model.fit(X_train, y_train)  #fit the model\n",
        "    pred=model.predict(X_test) #make prediction on test set\n",
        "    error = sqrt(mean_squared_error(y_test, pred)) #calculate rmse\n",
        "    rmse_val.append(error) #store rmse values\n"
      ],
      "execution_count": null,
      "outputs": []
    },
    {
      "cell_type": "code",
      "metadata": {
        "id": "zzCAWVhwtFK1",
        "colab": {
          "base_uri": "https://localhost:8080/",
          "height": 282
        },
        "outputId": "325c5a61-eaaa-4542-92ee-58207b2174f2"
      },
      "source": [
        "curve = pd.DataFrame(rmse_val) #elbow curve \n",
        "curve.plot()"
      ],
      "execution_count": null,
      "outputs": [
        {
          "output_type": "execute_result",
          "data": {
            "text/plain": [
              "<matplotlib.axes._subplots.AxesSubplot at 0x7f7aec030da0>"
            ]
          },
          "metadata": {
            "tags": []
          },
          "execution_count": 88
        },
        {
          "output_type": "display_data",
          "data": {
            "image/png": "[encoded data removed]",
            "text/plain": [
              "<Figure size 432x288 with 1 Axes>"
            ]
          },
          "metadata": {
            "tags": [],
            "needs_background": "light"
          }
        }
      ]
    },
    {
      "cell_type": "code",
      "metadata": {
        "id": "7VCeQhsus1Ez"
      },
      "source": [
        " model = neighbors.KNeighborsRegressor(n_neighbors = 22, weights = 'distance',  metric='manhattan')"
      ],
      "execution_count": null,
      "outputs": []
    },
    {
      "cell_type": "code",
      "metadata": {
        "id": "HDKeylSrtPaw",
        "colab": {
          "base_uri": "https://localhost:8080/"
        },
        "outputId": "26789343-03f2-4fef-bb2f-3e77f3626593"
      },
      "source": [
        "model.fit(X_train, y_train)"
      ],
      "execution_count": null,
      "outputs": [
        {
          "output_type": "execute_result",
          "data": {
            "text/plain": [
              "KNeighborsRegressor(algorithm='auto', leaf_size=30, metric='manhattan',\n",
              "                    metric_params=None, n_jobs=None, n_neighbors=22, p=2,\n",
              "                    weights='distance')"
            ]
          },
          "metadata": {
            "tags": []
          },
          "execution_count": 90
        }
      ]
    },
    {
      "cell_type": "code",
      "metadata": {
        "id": "EzeIvYvytTV4",
        "colab": {
          "base_uri": "https://localhost:8080/"
        },
        "outputId": "8a3a4278-feb2-4b0c-f887-4c1976c47ae1"
      },
      "source": [
        "model.score(X_test, y_test)"
      ],
      "execution_count": null,
      "outputs": [
        {
          "output_type": "execute_result",
          "data": {
            "text/plain": [
              "0.9135540908477525"
            ]
          },
          "metadata": {
            "tags": []
          },
          "execution_count": 91
        }
      ]
    },
    {
      "cell_type": "markdown",
      "metadata": {
        "id": "jFtjzxODbIvu"
      },
      "source": [
        "Our intuition that there is an increase in partisanship around election years. This can be supported by the KNearestNeighboor algorithm for the clusters that occur in the 3D space around the given years in question. "
      ]
    },
    {
      "cell_type": "markdown",
      "metadata": {
        "id": "ydplZ8oRbgCl"
      },
      "source": [
        "## House Nearest Neighbor \n",
        "\n",
        "Similarly, can we use the Nearest Neighbor algorithm to predict partisanship swings during election cycles in the House?"
      ]
    },
    {
      "cell_type": "code",
      "metadata": {
        "id": "8u_6Pks_bgCm",
        "colab": {
          "base_uri": "https://localhost:8080/",
          "height": 248
        },
        "outputId": "6bf69618-2ae6-4610-9265-61b171348b33"
      },
      "source": [
        "ax = plt.axes(projection =\"3d\")\n",
        " \n",
        "# Creating plot\n",
        "ax.scatter3D(dfH['Month'], dfH['Year'], dfH['8Code'], color = \"green\")\n",
        "plt.title(\"simple 3D scatter plot\")\n",
        " \n",
        "# show plot\n",
        "plt.show()"
      ],
      "execution_count": null,
      "outputs": [
        {
          "output_type": "display_data",
          "data": {
            "image/png": "[encoded data removed]",
            "text/plain": [
              "<Figure size 432x288 with 1 Axes>"
            ]
          },
          "metadata": {
            "tags": [],
            "needs_background": "light"
          }
        }
      ]
    },
    {
      "cell_type": "code",
      "metadata": {
        "id": "hqPCuG9TbgCp"
      },
      "source": [
        "#Make numpy array which will be our feature vector\n",
        "endArr = np.array([[1,dfH.iloc[0][8], dfH.iloc[0][5], dfH.iloc[0][7]], [1, dfH.iloc[1][8], dfH.iloc[1][5],  dfH.iloc[1][7]]])\n",
        "\n",
        "tempArr = np.array([])\n",
        "for i  in range(2,len(dfH),1):\n",
        "  endArr = np.append(endArr,[[1, dfH.iloc[i][8], dfH.iloc[i][5],  dfH.iloc[i][7]]],axis=0)\n",
        "x = np.array(endArr)\n",
        "#shuffle first\n",
        "X_train, X_test, y_train, y_test = train_test_split(x, dfH['Partisanship'], test_size=0.1)"
      ],
      "execution_count": null,
      "outputs": []
    },
    {
      "cell_type": "code",
      "metadata": {
        "id": "eab9SCn4bgCq"
      },
      "source": [
        "rmse_val = [] #to store rmse values for different k\n",
        "for K in range(40):\n",
        "    K = K+1\n",
        "    model = neighbors.KNeighborsRegressor(n_neighbors = K, weights = 'distance', metric='manhattan')\n",
        "\n",
        "    model.fit(X_train, y_train)  #fit the model\n",
        "    pred=model.predict(X_test) #make prediction on test set\n",
        "    error = sqrt(mean_squared_error(y_test, pred)) #calculate rmse\n",
        "    rmse_val.append(error) #store rmse values\n"
      ],
      "execution_count": null,
      "outputs": []
    },
    {
      "cell_type": "code",
      "metadata": {
        "id": "I7wAYb7GbgCq",
        "colab": {
          "base_uri": "https://localhost:8080/",
          "height": 286
        },
        "outputId": "21011ed6-a45e-4d66-a0b8-f48636e54838"
      },
      "source": [
        "curve = pd.DataFrame(rmse_val) #elbow curve \n",
        "curve.plot()"
      ],
      "execution_count": null,
      "outputs": [
        {
          "output_type": "execute_result",
          "data": {
            "text/plain": [
              "<matplotlib.axes._subplots.AxesSubplot at 0x7f7aec6d0c50>"
            ]
          },
          "metadata": {
            "tags": []
          },
          "execution_count": 95
        },
        {
          "output_type": "display_data",
          "data": {
            "image/png": "[encoded data removed]",
            "text/plain": [
              "<Figure size 432x288 with 1 Axes>"
            ]
          },
          "metadata": {
            "tags": [],
            "needs_background": "light"
          }
        }
      ]
    },
    {
      "cell_type": "code",
      "metadata": {
        "id": "VevQGdSSbgCr"
      },
      "source": [
        " model = neighbors.KNeighborsRegressor(n_neighbors = 9, weights = 'distance',  metric='manhattan')"
      ],
      "execution_count": null,
      "outputs": []
    },
    {
      "cell_type": "code",
      "metadata": {
        "id": "d2nrRB93bgCr",
        "colab": {
          "base_uri": "https://localhost:8080/"
        },
        "outputId": "901f90e2-ae5e-4410-cb94-b7bf7bb8ccec"
      },
      "source": [
        "model.fit(X_train, y_train)"
      ],
      "execution_count": null,
      "outputs": [
        {
          "output_type": "execute_result",
          "data": {
            "text/plain": [
              "KNeighborsRegressor(algorithm='auto', leaf_size=30, metric='manhattan',\n",
              "                    metric_params=None, n_jobs=None, n_neighbors=9, p=2,\n",
              "                    weights='distance')"
            ]
          },
          "metadata": {
            "tags": []
          },
          "execution_count": 97
        }
      ]
    },
    {
      "cell_type": "code",
      "metadata": {
        "id": "b4EstBSJbgCr",
        "colab": {
          "base_uri": "https://localhost:8080/"
        },
        "outputId": "2b5c0a94-efbb-4d50-a354-5c095a5284ce"
      },
      "source": [
        "model.score(X_test, y_test)"
      ],
      "execution_count": null,
      "outputs": [
        {
          "output_type": "execute_result",
          "data": {
            "text/plain": [
              "0.8019148703534662"
            ]
          },
          "metadata": {
            "tags": []
          },
          "execution_count": 98
        }
      ]
    },
    {
      "cell_type": "markdown",
      "metadata": {
        "id": "Ttehre-ibgCr"
      },
      "source": [
        "The same four/eight year uptick in partisanship exists in the House!"
      ]
    },
    {
      "cell_type": "markdown",
      "metadata": {
        "id": "frgya0Q4HARu"
      },
      "source": [
        "# Part 5: Insight, Policy Decision, and Importance"
      ]
    },
    {
      "cell_type": "markdown",
      "metadata": {
        "id": "jLW6jt9gHJbP"
      },
      "source": [
        "## Summary\n",
        "\n",
        "Overall, it is clear that congressional partisanship, at least how we defined it for the purposes of this essay has increased over the last 80 years. Both parties have grown more partisan at around the same rate, and this behavior exists in both houses. Using this scraped data, we are able to build models using machine learning that can predict partisanship with considerable accuracy"
      ]
    },
    {
      "cell_type": "markdown",
      "metadata": {
        "id": "b2o_FlzWf7yV"
      },
      "source": [
        "## Financial Importance\n",
        "\n",
        "Being able to predict political partisanship allows us to predict the passage of legislature, an ability that has limitless political potential. To give a recent example, in times of economic depression such as the one caused by the COVID pandemic, there have been numerous efforts to pass legislature to provide stimulus packages to American people and businessess. When this occurs, there is a considerable economic uptick. Stock brokers make billions of dollars by predicting such an uptick; accordingly, models such as these have significant importance for quants, as this [article](https://medium.com/@bradfordcross/machine-learning-vs-quants-the-advantages-of-machine-learning-in-finance-f6e8d19ebf9f) details"
      ]
    },
    {
      "cell_type": "markdown",
      "metadata": {
        "id": "-H8Mx74khSqD"
      },
      "source": [
        "## Social Importance\n",
        "\n",
        "At times, political polarization appears to be a insurmountable problem. How can the country unite in times of hardship? The first step in moving forward is recognizing historical patterns; in this case, our project details the patterns of partisanship. \n",
        "\n",
        "In the age of digitalization where echo chambers dictate much of what people hear and therefore the opinions they form, this problem is made more challenging.  But  machine learning algorithms and the data visualization of political partisanship may be the perfect method of penetrating digital echo chambers and act as a wake up call to the American people. If we can realize the trajectory of where we are as a society and make a renewed push to find common ground, we may be able to work together to benefit everyone. This is not a partisan report, both parties are responsible for where we are today, and both have the power to shape the future of our country."
      ]
    },
    {
      "cell_type": "markdown",
      "metadata": {
        "id": "gBAL5Tspjq8-"
      },
      "source": [
        "## The future of this project\n",
        "\n",
        "There are two main ways to take this project to the next level. First, as this paper has distinguished multiple times, there is a difference between the partisanship of the people of the US and the congressional representatives of the US. This project deals with the latter, but what of the former? Did one come before, or perhaps cause the other? To determine this, additional data sources are needed to measure citizen partisanship. However, due to digitalization revolutionizing information distribution, it will be difficult to standardize this change over time.\n",
        "\n",
        "Second, we did not use the title or the type of motion in this project at all, despite scraping it when available. An important future step for this project would be applying natural language processing to text associated with each vote to put them in different categories. Our intuition is that certain types of votes invoke greater partisanship. A obvious recent example would be the nomination of Supreme Court Justices."
      ]
    }
  ]
}